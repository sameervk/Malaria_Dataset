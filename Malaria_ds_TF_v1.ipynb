{
 "cells": [
  {
   "cell_type": "code",
   "execution_count": 1,
   "metadata": {
    "colab": {},
    "colab_type": "code",
    "id": "ARiR9-s3Yr35"
   },
   "outputs": [],
   "source": [
    "import tensorflow as tf"
   ]
  },
  {
   "cell_type": "code",
   "execution_count": 2,
   "metadata": {
    "colab": {
     "base_uri": "https://localhost:8080/",
     "height": 35
    },
    "colab_type": "code",
    "id": "s8py3kfDX6qX",
    "outputId": "e081aa4a-5323-46e0-82bc-ccfd68c7c063"
   },
   "outputs": [
    {
     "data": {
      "text/plain": [
       "'2.0.0'"
      ]
     },
     "execution_count": 2,
     "metadata": {},
     "output_type": "execute_result"
    }
   ],
   "source": [
    "tf.__version__"
   ]
  },
  {
   "cell_type": "code",
   "execution_count": 3,
   "metadata": {
    "colab": {},
    "colab_type": "code",
    "id": "zvEyss72YblZ"
   },
   "outputs": [],
   "source": [
    "import tensorflow_datasets as tfds"
   ]
  },
  {
   "cell_type": "markdown",
   "metadata": {
    "colab_type": "text",
    "id": "Wwh-wD-52Mju"
   },
   "source": [
    "### Importing Malaria dataset"
   ]
  },
  {
   "cell_type": "code",
   "execution_count": 4,
   "metadata": {},
   "outputs": [],
   "source": [
    "# This was required because tfds.load('malaria') was giving a InsecureRequestWarning\n",
    "import requests\n",
    "from requests.packages.urllib3.exceptions import InsecureRequestWarning\n",
    "\n",
    "requests.packages.urllib3.disable_warnings(InsecureRequestWarning)"
   ]
  },
  {
   "cell_type": "code",
   "execution_count": 5,
   "metadata": {
    "colab": {},
    "colab_type": "code",
    "id": "pCV5Ouz0Y3pR"
   },
   "outputs": [],
   "source": [
    "mal_data = tfds.load('malaria')"
   ]
  },
  {
   "cell_type": "markdown",
   "metadata": {},
   "source": [
    "##### Converting to numpy for data exploration"
   ]
  },
  {
   "cell_type": "code",
   "execution_count": 6,
   "metadata": {
    "colab": {},
    "colab_type": "code",
    "id": "bI8wEUdSaMQf"
   },
   "outputs": [],
   "source": [
    "mal_data = tfds.as_numpy(mal_data)"
   ]
  },
  {
   "cell_type": "code",
   "execution_count": 7,
   "metadata": {
    "colab": {
     "base_uri": "https://localhost:8080/",
     "height": 35
    },
    "colab_type": "code",
    "id": "iamA2SNy36fq",
    "outputId": "1f5bf681-88b2-480a-cdcc-d86a00528aa5"
   },
   "outputs": [
    {
     "data": {
      "text/plain": [
       "1"
      ]
     },
     "execution_count": 7,
     "metadata": {},
     "output_type": "execute_result"
    }
   ],
   "source": [
    "len(mal_data)"
   ]
  },
  {
   "cell_type": "code",
   "execution_count": 8,
   "metadata": {
    "colab": {
     "base_uri": "https://localhost:8080/",
     "height": 35
    },
    "colab_type": "code",
    "id": "wabHgBxA3-Ow",
    "outputId": "9e74efb7-2d7b-4c6c-d3d1-eed4a3f41b20"
   },
   "outputs": [
    {
     "data": {
      "text/plain": [
       "dict"
      ]
     },
     "execution_count": 8,
     "metadata": {},
     "output_type": "execute_result"
    }
   ],
   "source": [
    "type(mal_data)"
   ]
  },
  {
   "cell_type": "code",
   "execution_count": 9,
   "metadata": {
    "colab": {
     "base_uri": "https://localhost:8080/",
     "height": 35
    },
    "colab_type": "code",
    "id": "aD4YsYaU4BCf",
    "outputId": "d3ded669-ff58-47a0-e3d3-7bf9bc48e51a"
   },
   "outputs": [
    {
     "data": {
      "text/plain": [
       "dict_keys(['train'])"
      ]
     },
     "execution_count": 9,
     "metadata": {},
     "output_type": "execute_result"
    }
   ],
   "source": [
    "mal_data.keys()"
   ]
  },
  {
   "cell_type": "code",
   "execution_count": 10,
   "metadata": {
    "colab": {
     "base_uri": "https://localhost:8080/",
     "height": 35
    },
    "colab_type": "code",
    "id": "3VDb_kGM4NHM",
    "outputId": "8d33467b-dfa8-43c6-ceb0-30b0657c7e4e"
   },
   "outputs": [
    {
     "data": {
      "text/plain": [
       "dict_values([<generator object _eager_dataset_iterator at 0x7f7d46933990>])"
      ]
     },
     "execution_count": 10,
     "metadata": {},
     "output_type": "execute_result"
    }
   ],
   "source": [
    "mal_data.values()"
   ]
  },
  {
   "cell_type": "code",
   "execution_count": 11,
   "metadata": {
    "colab": {},
    "colab_type": "code",
    "id": "72Xigy5p4hS9"
   },
   "outputs": [],
   "source": [
    "mal_data_npy = mal_data['train']"
   ]
  },
  {
   "cell_type": "code",
   "execution_count": 12,
   "metadata": {
    "colab": {
     "base_uri": "https://localhost:8080/",
     "height": 35
    },
    "colab_type": "code",
    "id": "3ZdmSlbI4y1S",
    "outputId": "6f25aab5-5660-449c-ecf6-0ab8ed4dbbce"
   },
   "outputs": [
    {
     "data": {
      "text/plain": [
       "generator"
      ]
     },
     "execution_count": 12,
     "metadata": {},
     "output_type": "execute_result"
    }
   ],
   "source": [
    "type(mal_data_npy)"
   ]
  },
  {
   "cell_type": "code",
   "execution_count": 13,
   "metadata": {
    "colab": {
     "base_uri": "https://localhost:8080/",
     "height": 884
    },
    "colab_type": "code",
    "id": "7Z5kAH5l41Kq",
    "outputId": "909f3f08-83fb-4cef-fd2a-7790cb09cf0b"
   },
   "outputs": [
    {
     "name": "stdout",
     "output_type": "stream",
     "text": [
      "{'image': array([[[0, 0, 0],\n",
      "        [0, 0, 0],\n",
      "        [0, 0, 0],\n",
      "        ...,\n",
      "        [0, 0, 0],\n",
      "        [0, 0, 0],\n",
      "        [0, 0, 0]],\n",
      "\n",
      "       [[0, 0, 0],\n",
      "        [0, 0, 0],\n",
      "        [0, 0, 0],\n",
      "        ...,\n",
      "        [0, 0, 0],\n",
      "        [0, 0, 0],\n",
      "        [0, 0, 0]],\n",
      "\n",
      "       [[0, 0, 0],\n",
      "        [0, 0, 0],\n",
      "        [0, 0, 0],\n",
      "        ...,\n",
      "        [0, 0, 0],\n",
      "        [0, 0, 0],\n",
      "        [0, 0, 0]],\n",
      "\n",
      "       ...,\n",
      "\n",
      "       [[0, 0, 0],\n",
      "        [0, 0, 0],\n",
      "        [0, 0, 0],\n",
      "        ...,\n",
      "        [0, 0, 0],\n",
      "        [0, 0, 0],\n",
      "        [0, 0, 0]],\n",
      "\n",
      "       [[0, 0, 0],\n",
      "        [0, 0, 0],\n",
      "        [0, 0, 0],\n",
      "        ...,\n",
      "        [0, 0, 0],\n",
      "        [0, 0, 0],\n",
      "        [0, 0, 0]],\n",
      "\n",
      "       [[0, 0, 0],\n",
      "        [0, 0, 0],\n",
      "        [0, 0, 0],\n",
      "        ...,\n",
      "        [0, 0, 0],\n",
      "        [0, 0, 0],\n",
      "        [0, 0, 0]]], dtype=uint8), 'label': 1}\n"
     ]
    }
   ],
   "source": [
    "for i in mal_data_npy:\n",
    "  temp = i\n",
    "  print(i)\n",
    "  break"
   ]
  },
  {
   "cell_type": "code",
   "execution_count": 14,
   "metadata": {
    "colab": {},
    "colab_type": "code",
    "id": "dF4UG5sZQhtT"
   },
   "outputs": [],
   "source": [
    "feature_list = []\n",
    "label_list = []\n",
    "for i in mal_data_npy:\n",
    "  feature_list.append(i['image'])\n",
    "  label_list.append(i['label'])"
   ]
  },
  {
   "cell_type": "code",
   "execution_count": 15,
   "metadata": {
    "colab": {
     "base_uri": "https://localhost:8080/",
     "height": 35
    },
    "colab_type": "code",
    "id": "UyUREn5-TMgV",
    "outputId": "ee73db71-1f51-4be5-e289-a185d2ccee56"
   },
   "outputs": [
    {
     "data": {
      "text/plain": [
       "27557"
      ]
     },
     "execution_count": 15,
     "metadata": {},
     "output_type": "execute_result"
    }
   ],
   "source": [
    "len(feature_list)"
   ]
  },
  {
   "cell_type": "code",
   "execution_count": 16,
   "metadata": {
    "colab": {},
    "colab_type": "code",
    "id": "epfOMY3XUHM_"
   },
   "outputs": [],
   "source": [
    "feature_list.append(temp['image'])\n",
    "label_list.append(temp['label'])"
   ]
  },
  {
   "cell_type": "code",
   "execution_count": 17,
   "metadata": {
    "colab": {
     "base_uri": "https://localhost:8080/",
     "height": 35
    },
    "colab_type": "code",
    "id": "rAyxpyrW9p0O",
    "outputId": "c0c281c9-a528-4efb-c5da-47b772c4e471"
   },
   "outputs": [
    {
     "data": {
      "text/plain": [
       "27558"
      ]
     },
     "execution_count": 17,
     "metadata": {},
     "output_type": "execute_result"
    }
   ],
   "source": [
    "len(label_list)"
   ]
  },
  {
   "cell_type": "markdown",
   "metadata": {
    "colab_type": "text",
    "id": "VXPPHFRT9qxJ"
   },
   "source": [
    "#### Plotting"
   ]
  },
  {
   "cell_type": "code",
   "execution_count": 18,
   "metadata": {
    "colab": {},
    "colab_type": "code",
    "id": "HdsNMfqO46sp"
   },
   "outputs": [],
   "source": [
    "import matplotlib.pyplot as plt\n",
    "\n",
    "%matplotlib inline"
   ]
  },
  {
   "cell_type": "code",
   "execution_count": 19,
   "metadata": {
    "colab": {
     "base_uri": "https://localhost:8080/",
     "height": 499
    },
    "colab_type": "code",
    "id": "V66coC4u91gW",
    "outputId": "fb929e21-bbdb-4e30-fb8b-3acc63b13938"
   },
   "outputs": [
    {
     "data": {
      "image/png": "[encoded data removed]",
      "text/plain": [
       "<Figure size 864x576 with 9 Axes>"
      ]
     },
     "metadata": {
      "needs_background": "light"
     },
     "output_type": "display_data"
    }
   ],
   "source": [
    "fig1, ax1 = plt.subplots(3,3, sharex=True, sharey=True, figsize = (12,8))\n",
    "ax1 = ax1.flatten()\n",
    "for i,j,k in zip(range(len(ax1)), feature_list, label_list):\n",
    "  ax1[i].imshow(j)\n",
    "  ax1[i].set_title('Shape = ' + str(j.shape) + ', Label = ' + str(k))\n",
    "plt.show()"
   ]
  },
  {
   "cell_type": "markdown",
   "metadata": {
    "colab_type": "text",
    "id": "2ZC_trjQKz1i"
   },
   "source": [
    "  * Different input sizes but all with 3 channels"
   ]
  },
  {
   "cell_type": "code",
   "execution_count": null,
   "metadata": {
    "colab": {},
    "colab_type": "code",
    "id": "RyaZlVrkMOYG"
   },
   "outputs": [],
   "source": []
  },
  {
   "cell_type": "markdown",
   "metadata": {
    "colab_type": "text",
    "id": "XlpqGJy5NpPl"
   },
   "source": [
    "### Data Preprocessing"
   ]
  },
  {
   "cell_type": "code",
   "execution_count": 20,
   "metadata": {
    "colab": {},
    "colab_type": "code",
    "id": "ZgpKUEALOaLe"
   },
   "outputs": [],
   "source": [
    "import numpy as np"
   ]
  },
  {
   "cell_type": "code",
   "execution_count": 21,
   "metadata": {
    "colab": {},
    "colab_type": "code",
    "id": "9O7AqQalg4qi"
   },
   "outputs": [],
   "source": [
    "feature_list = np.array(feature_list)"
   ]
  },
  {
   "cell_type": "code",
   "execution_count": 22,
   "metadata": {
    "colab": {
     "base_uri": "https://localhost:8080/",
     "height": 35
    },
    "colab_type": "code",
    "id": "JKn5mjLsg_UR",
    "outputId": "b0bf3ba0-6cae-4ccf-d9fe-7268e9604646"
   },
   "outputs": [
    {
     "data": {
      "text/plain": [
       "(106, 121, 3)"
      ]
     },
     "execution_count": 22,
     "metadata": {},
     "output_type": "execute_result"
    }
   ],
   "source": [
    "feature_list[0].shape"
   ]
  },
  {
   "cell_type": "code",
   "execution_count": 23,
   "metadata": {
    "colab": {},
    "colab_type": "code",
    "id": "LYjjtPYshG3w"
   },
   "outputs": [],
   "source": [
    "label_list = np.array(label_list)"
   ]
  },
  {
   "cell_type": "code",
   "execution_count": 24,
   "metadata": {
    "colab": {},
    "colab_type": "code",
    "id": "QHtXCKxV3VpJ"
   },
   "outputs": [],
   "source": [
    "label_list = label_list.astype('uint8')"
   ]
  },
  {
   "cell_type": "markdown",
   "metadata": {
    "colab_type": "text",
    "id": "RCB89S5NpGya"
   },
   "source": [
    "#### <br /> Checking the image size (height, width) distribution <br />\n"
   ]
  },
  {
   "cell_type": "code",
   "execution_count": 25,
   "metadata": {
    "colab": {},
    "colab_type": "code",
    "id": "Qzizqw3ii6Lf"
   },
   "outputs": [],
   "source": [
    "shape_list = []\n",
    "for i in feature_list:\n",
    "  shape = i.shape\n",
    "  shape_list.append([shape[0], shape[1]])\n",
    "\n",
    "shape_list = np.array(shape_list)"
   ]
  },
  {
   "cell_type": "code",
   "execution_count": 26,
   "metadata": {
    "colab": {
     "base_uri": "https://localhost:8080/",
     "height": 35
    },
    "colab_type": "code",
    "id": "CSgIS7HYi6PO",
    "outputId": "28fb0e88-bebd-406f-ba20-b050f6b3ee5c"
   },
   "outputs": [
    {
     "data": {
      "text/plain": [
       "(27558, 2)"
      ]
     },
     "execution_count": 26,
     "metadata": {},
     "output_type": "execute_result"
    }
   ],
   "source": [
    "shape_list.shape"
   ]
  },
  {
   "cell_type": "code",
   "execution_count": 27,
   "metadata": {
    "colab": {
     "base_uri": "https://localhost:8080/",
     "height": 35
    },
    "colab_type": "code",
    "id": "rMcy7aI7i6SR",
    "outputId": "9082e7a5-adbf-409d-d290-53d293cec28a"
   },
   "outputs": [
    {
     "data": {
      "text/plain": [
       "array([40, 46])"
      ]
     },
     "execution_count": 27,
     "metadata": {},
     "output_type": "execute_result"
    }
   ],
   "source": [
    "# Minimum dimension size (height, width)\n",
    "min_shape_val = np.min(shape_list, axis=0)\n",
    "min_shape_val"
   ]
  },
  {
   "cell_type": "code",
   "execution_count": 28,
   "metadata": {
    "colab": {
     "base_uri": "https://localhost:8080/",
     "height": 35
    },
    "colab_type": "code",
    "id": "bPXY9SI_i6U9",
    "outputId": "2967af64-ed1f-480a-e8e7-7c7f7372b678"
   },
   "outputs": [
    {
     "data": {
      "text/plain": [
       "array([385, 394])"
      ]
     },
     "execution_count": 28,
     "metadata": {},
     "output_type": "execute_result"
    }
   ],
   "source": [
    "# Maximum dimension size (height, width)\n",
    "max_shape_val = np.max(shape_list, axis=0)\n",
    "max_shape_val"
   ]
  },
  {
   "cell_type": "code",
   "execution_count": 29,
   "metadata": {
    "colab": {
     "base_uri": "https://localhost:8080/",
     "height": 35
    },
    "colab_type": "code",
    "id": "E6rx37-ai6Xo",
    "outputId": "d857a4ad-57a9-4343-a780-8db45aff8e8f"
   },
   "outputs": [
    {
     "data": {
      "text/plain": [
       "array([132.98345308, 132.48715437])"
      ]
     },
     "execution_count": 29,
     "metadata": {},
     "output_type": "execute_result"
    }
   ],
   "source": [
    "# Mean dimension size (height, width)\n",
    "mean_shape_val = np.mean(shape_list, axis=0)\n",
    "mean_shape_val"
   ]
  },
  {
   "cell_type": "code",
   "execution_count": 30,
   "metadata": {
    "colab": {
     "base_uri": "https://localhost:8080/",
     "height": 35
    },
    "colab_type": "code",
    "id": "ih3EN7fki6aO",
    "outputId": "a8060d71-39b9-4456-8a7c-accc7375c1ae"
   },
   "outputs": [
    {
     "data": {
      "text/plain": [
       "array([20.61927562, 20.01558555])"
      ]
     },
     "execution_count": 30,
     "metadata": {},
     "output_type": "execute_result"
    }
   ],
   "source": [
    "# standard deviation of the dimension size (height, width)\n",
    "std_shape_val = np.std(shape_list, axis=0)\n",
    "std_shape_val"
   ]
  },
  {
   "cell_type": "code",
   "execution_count": 31,
   "metadata": {
    "colab": {
     "base_uri": "https://localhost:8080/",
     "height": 35
    },
    "colab_type": "code",
    "id": "tptEoe3Vi6ch",
    "outputId": "c7498d5e-bdc7-404d-a50d-4273524cb92b"
   },
   "outputs": [
    {
     "data": {
      "text/plain": [
       "array([130., 130.])"
      ]
     },
     "execution_count": 31,
     "metadata": {},
     "output_type": "execute_result"
    }
   ],
   "source": [
    "# median of the dimension size (height, width)\n",
    "median_shape_val = np.median(shape_list, axis=0)\n",
    "median_shape_val"
   ]
  },
  {
   "cell_type": "markdown",
   "metadata": {},
   "source": [
    "### Resizing value"
   ]
  },
  {
   "cell_type": "markdown",
   "metadata": {},
   "source": [
    "Warning if image shape is not of the right dimensions\n",
    "\n",
    "datascience/lib/python3.6/site-packages/keras_applications/mobilenet_v2.py:294: UserWarning: `input_shape` is undefined or non-square, or `rows` is not in [96, 128, 160, 192, 224]. Weights for input shape (224, 224) will be loaded as the default.\n",
    "  warnings.warn('`input_shape` is undefined or non-square, "
   ]
  },
  {
   "cell_type": "code",
   "execution_count": 32,
   "metadata": {
    "colab": {
     "base_uri": "https://localhost:8080/",
     "height": 185
    },
    "colab_type": "code",
    "id": "yUw8f-nQi6ew",
    "outputId": "37ab3aae-d77c-46cf-80c2-87767ee8e64b"
   },
   "outputs": [
    {
     "data": {
      "text/plain": [
       "128"
      ]
     },
     "execution_count": 32,
     "metadata": {},
     "output_type": "execute_result"
    }
   ],
   "source": [
    "# resize = np.round(mean_shape_val).astype('uint8')\n",
    "# Majority of the Transfer learning models require square input, i.e. width = height.\n",
    "resize = 128\n",
    "resize"
   ]
  },
  {
   "cell_type": "markdown",
   "metadata": {},
   "source": [
    "##### memory consumption till here is 1.6 GB <br />"
   ]
  },
  {
   "cell_type": "markdown",
   "metadata": {},
   "source": [
    "        * All images need to be resized to the same dimension (height, width) for creating a tf.data.Dataset object\n",
    "       \n",
    "        \n",
    "        "
   ]
  },
  {
   "cell_type": "markdown",
   "metadata": {},
   "source": [
    "##### using tf.image module, with the option of various resizes methods, to resize the images"
   ]
  },
  {
   "cell_type": "code",
   "execution_count": 33,
   "metadata": {},
   "outputs": [],
   "source": [
    "# timeit module to time the whole script\n",
    "import time"
   ]
  },
  {
   "cell_type": "markdown",
   "metadata": {
    "colab": {},
    "colab_type": "code",
    "id": "n2TA5cLK_ej7"
   },
   "source": [
    "def resizing_fn(feature_list):\n",
    "    \n",
    "    start_time = time.time()\n",
    "\n",
    "    resized_feature_list = []\n",
    "    for i,j in enumerate(feature_list):\n",
    "        img_resize = tf.image.resize_with_pad(j, resize[0], resize[1], method = 'lanczos3', antialias=True)\n",
    "        resized_feature_list.append(img_resize.numpy())\n",
    "\n",
    "    end_time = time.time()\n",
    "    time_for_resizing = end_time - start_time\n",
    "\n",
    "    print('Time taken for resizing: %0.1f seconds' %(end_time - start_time))\n",
    "    \n",
    "    return np.array(resized_feature_list)"
   ]
  },
  {
   "cell_type": "code",
   "execution_count": 34,
   "metadata": {},
   "outputs": [],
   "source": [
    "# Garbage collection\n",
    "import gc"
   ]
  },
  {
   "cell_type": "markdown",
   "metadata": {
    "colab": {},
    "colab_type": "code",
    "id": "n2TA5cLK_ej7"
   },
   "source": [
    "start_time = time.time()\n",
    "\n",
    "resized_feature_list = []\n",
    "for i in feature_list:\n",
    "    img_resize = tf.image.resize_with_pad(i, resize[0], resize[1], method = 'lanczos3', antialias=True)\n",
    "    resized_feature_list.append(img_resize)\n",
    "\n",
    "end_time = time.time()\n",
    "time_for_resizing = end_time - start_time\n",
    "\n",
    "print(time_for_resizing) # time the resizing operation in seconds\n"
   ]
  },
  {
   "cell_type": "code",
   "execution_count": 35,
   "metadata": {},
   "outputs": [],
   "source": [
    "from joblib import Parallel, delayed\n",
    "def resizing_tf(i):\n",
    "    \n",
    "    return tf.image.resize_with_pad(image = i, target_height = resize, \n",
    "                                    target_width=resize, method = 'lanczos3', antialias=True).numpy()\n",
    "def resizing_fn(feature_list):\n",
    "    \n",
    "    start_time = time.time()\n",
    "    \n",
    "    resized_feature_list = Parallel(n_jobs=3)(delayed(resizing_tf)(i) for i in feature_list)\n",
    "    \n",
    "    end_time = time.time()\n",
    "    \n",
    "    print('Time taken for resizing: %0.1f seconds' %(end_time - start_time))\n",
    "    \n",
    "    return np.array(resized_feature_list)"
   ]
  },
  {
   "cell_type": "markdown",
   "metadata": {},
   "source": [
    "    \n",
    "Using joblib to parallelize reduces the processing time for sure but results in increased RAM consumption.\n",
    "\n",
    "Also, unable to clear memory using\n",
    "\n",
    "    del resized_feature_list\n",
    "    gc.collect()\n",
    "\n",
    "tested by defining within the function itself <br />"
   ]
  },
  {
   "cell_type": "code",
   "execution_count": 36,
   "metadata": {
    "colab": {
     "base_uri": "https://localhost:8080/",
     "height": 658
    },
    "colab_type": "code",
    "id": "Iu2-e1XCO8jA",
    "outputId": "851da4d5-f1b3-4613-a5f6-f54b164c2aa6"
   },
   "outputs": [
    {
     "name": "stdout",
     "output_type": "stream",
     "text": [
      "Time taken for resizing: 2.0 seconds\n"
     ]
    },
    {
     "data": {
      "image/png": "[encoded data removed]",
      "text/plain": [
       "<Figure size 864x576 with 9 Axes>"
      ]
     },
     "metadata": {
      "needs_background": "light"
     },
     "output_type": "display_data"
    }
   ],
   "source": [
    "# Plotting the resized images\n",
    "fig2, ax2 = plt.subplots(3,3, sharex=True, sharey=True, figsize = (12,8))\n",
    "ax2 = ax2.flatten()\n",
    "\n",
    "for i,j,k in zip(range(len(ax2)), resizing_fn(feature_list[:9]), label_list[:9]):\n",
    "    ax2[i].imshow(tf.cast(j, 'uint8')) # plt.imshow clips input data to range [0,255] for integers\n",
    "    ax2[i].set_title('Shape = ' + str(j.shape) + ', Label = ' + str(k))\n",
    "\n",
    "plt.show()"
   ]
  },
  {
   "cell_type": "code",
   "execution_count": null,
   "metadata": {},
   "outputs": [],
   "source": []
  },
  {
   "cell_type": "markdown",
   "metadata": {},
   "source": [
    "#### Converting y labels to categorical"
   ]
  },
  {
   "cell_type": "code",
   "execution_count": 37,
   "metadata": {},
   "outputs": [
    {
     "data": {
      "text/plain": [
       "numpy.ndarray"
      ]
     },
     "execution_count": 37,
     "metadata": {},
     "output_type": "execute_result"
    }
   ],
   "source": [
    "type(label_list)"
   ]
  },
  {
   "cell_type": "code",
   "execution_count": 38,
   "metadata": {},
   "outputs": [
    {
     "data": {
      "text/plain": [
       "array([0, 1], dtype=uint8)"
      ]
     },
     "execution_count": 38,
     "metadata": {},
     "output_type": "execute_result"
    }
   ],
   "source": [
    "np.unique(label_list)"
   ]
  },
  {
   "cell_type": "code",
   "execution_count": 39,
   "metadata": {},
   "outputs": [
    {
     "data": {
      "text/plain": [
       "array([13779, 13779])"
      ]
     },
     "execution_count": 39,
     "metadata": {},
     "output_type": "execute_result"
    }
   ],
   "source": [
    "np.bincount(label_list)"
   ]
  },
  {
   "cell_type": "code",
   "execution_count": 40,
   "metadata": {},
   "outputs": [],
   "source": [
    "from sklearn.preprocessing import OneHotEncoder"
   ]
  },
  {
   "cell_type": "code",
   "execution_count": 41,
   "metadata": {},
   "outputs": [],
   "source": [
    "onehotencoder = OneHotEncoder(sparse = False)"
   ]
  },
  {
   "cell_type": "code",
   "execution_count": 42,
   "metadata": {},
   "outputs": [
    {
     "name": "stderr",
     "output_type": "stream",
     "text": [
      "/home/sameer/datascience/lib/python3.6/site-packages/sklearn/preprocessing/_encoders.py:415: FutureWarning: The handling of integer data will change in version 0.22. Currently, the categories are determined based on the range [0, max(values)], while in the future they will be determined based on the unique values.\n",
      "If you want the future behaviour and silence this warning, you can specify \"categories='auto'\".\n",
      "In case you used a LabelEncoder before this OneHotEncoder to convert the categories to integers, then you can now use the OneHotEncoder directly.\n",
      "  warnings.warn(msg, FutureWarning)\n"
     ]
    }
   ],
   "source": [
    "categorical_labels = onehotencoder.fit_transform(label_list.reshape(-1,1))"
   ]
  },
  {
   "cell_type": "code",
   "execution_count": 43,
   "metadata": {},
   "outputs": [
    {
     "data": {
      "text/plain": [
       "[array([0., 1.])]"
      ]
     },
     "execution_count": 43,
     "metadata": {},
     "output_type": "execute_result"
    }
   ],
   "source": [
    "onehotencoder.categories_"
   ]
  },
  {
   "cell_type": "code",
   "execution_count": 44,
   "metadata": {},
   "outputs": [
    {
     "data": {
      "text/plain": [
       "array(['x0_0.0', 'x0_1.0'], dtype=object)"
      ]
     },
     "execution_count": 44,
     "metadata": {},
     "output_type": "execute_result"
    }
   ],
   "source": [
    "onehotencoder.get_feature_names()"
   ]
  },
  {
   "cell_type": "code",
   "execution_count": 45,
   "metadata": {},
   "outputs": [
    {
     "data": {
      "text/plain": [
       "numpy.ndarray"
      ]
     },
     "execution_count": 45,
     "metadata": {},
     "output_type": "execute_result"
    }
   ],
   "source": [
    "type(label_list)"
   ]
  },
  {
   "cell_type": "code",
   "execution_count": 46,
   "metadata": {},
   "outputs": [
    {
     "data": {
      "text/plain": [
       "array([1., 0.])"
      ]
     },
     "execution_count": 46,
     "metadata": {},
     "output_type": "execute_result"
    }
   ],
   "source": [
    "categorical_labels[1]"
   ]
  },
  {
   "cell_type": "markdown",
   "metadata": {
    "colab_type": "text",
    "id": "l0glkJaxixBY"
   },
   "source": [
    "### Creating TF dataset for training"
   ]
  },
  {
   "cell_type": "markdown",
   "metadata": {
    "colab_type": "text",
    "id": "VDxHiOja0qeL"
   },
   "source": [
    "##### Shuffling the data before splitting into training, validation and test in the ratio 0.8,0.1,0.1"
   ]
  },
  {
   "cell_type": "code",
   "execution_count": 47,
   "metadata": {
    "colab": {},
    "colab_type": "code",
    "id": "m67N2rfKFyZR"
   },
   "outputs": [],
   "source": [
    "# concat_data = np.concatenate((feature_list.reshape(-1,1), label_list.reshape(-1,1)), axis=1)\n",
    "# concat_data.shape"
   ]
  },
  {
   "cell_type": "code",
   "execution_count": 48,
   "metadata": {
    "colab": {},
    "colab_type": "code",
    "id": "BA-NTE2g5I0V"
   },
   "outputs": [],
   "source": [
    "from sklearn.model_selection import train_test_split"
   ]
  },
  {
   "cell_type": "code",
   "execution_count": 49,
   "metadata": {
    "colab": {},
    "colab_type": "code",
    "id": "fPp9GTLW5tqW"
   },
   "outputs": [],
   "source": [
    "random_seed = 100"
   ]
  },
  {
   "cell_type": "code",
   "execution_count": 50,
   "metadata": {
    "colab": {},
    "colab_type": "code",
    "id": "baUktF2G5Sma"
   },
   "outputs": [
    {
     "name": "stdout",
     "output_type": "stream",
     "text": [
      "Time taken for resizing: 47.5 seconds\n"
     ]
    }
   ],
   "source": [
    "x_train, x_test, y_train, y_test = train_test_split(resizing_fn(feature_list), categorical_labels, test_size=0.1, shuffle = True, \n",
    "                                                    random_state=random_seed, stratify = label_list)"
   ]
  },
  {
   "cell_type": "code",
   "execution_count": 51,
   "metadata": {
    "colab": {
     "base_uri": "https://localhost:8080/",
     "height": 35
    },
    "colab_type": "code",
    "id": "vjtJHHsP7bUI",
    "outputId": "77a34f21-2dc5-47df-f196-2e92ebbf3ae2"
   },
   "outputs": [
    {
     "data": {
      "text/plain": [
       "24802"
      ]
     },
     "execution_count": 51,
     "metadata": {},
     "output_type": "execute_result"
    }
   ],
   "source": [
    "len(x_train)"
   ]
  },
  {
   "cell_type": "code",
   "execution_count": 52,
   "metadata": {},
   "outputs": [
    {
     "data": {
      "text/plain": [
       "numpy.ndarray"
      ]
     },
     "execution_count": 52,
     "metadata": {},
     "output_type": "execute_result"
    }
   ],
   "source": [
    "type(x_train)"
   ]
  },
  {
   "cell_type": "code",
   "execution_count": 53,
   "metadata": {},
   "outputs": [
    {
     "data": {
      "text/plain": [
       "(24802, 128, 128, 3)"
      ]
     },
     "execution_count": 53,
     "metadata": {},
     "output_type": "execute_result"
    }
   ],
   "source": [
    "x_train.shape"
   ]
  },
  {
   "cell_type": "code",
   "execution_count": 54,
   "metadata": {
    "colab": {
     "base_uri": "https://localhost:8080/",
     "height": 35
    },
    "colab_type": "code",
    "id": "KArwj_OJ5iOi",
    "outputId": "7ba47522-ec8f-4657-92c0-1a37369d765f"
   },
   "outputs": [
    {
     "data": {
      "text/plain": [
       "2756"
      ]
     },
     "execution_count": 54,
     "metadata": {},
     "output_type": "execute_result"
    }
   ],
   "source": [
    "len(x_test)"
   ]
  },
  {
   "cell_type": "code",
   "execution_count": 55,
   "metadata": {},
   "outputs": [
    {
     "data": {
      "text/plain": [
       "(24802, 128, 128, 3)"
      ]
     },
     "execution_count": 55,
     "metadata": {},
     "output_type": "execute_result"
    }
   ],
   "source": [
    "x_train_shape = x_train[:].shape\n",
    "x_train_shape"
   ]
  },
  {
   "cell_type": "code",
   "execution_count": 56,
   "metadata": {},
   "outputs": [
    {
     "data": {
      "text/plain": [
       "(2756, 128, 128, 3)"
      ]
     },
     "execution_count": 56,
     "metadata": {},
     "output_type": "execute_result"
    }
   ],
   "source": [
    "x_test_shape = x_test.shape\n",
    "x_test_shape"
   ]
  },
  {
   "cell_type": "markdown",
   "metadata": {},
   "source": [
    "#### Scaling the data"
   ]
  },
  {
   "cell_type": "code",
   "execution_count": 57,
   "metadata": {},
   "outputs": [],
   "source": [
    "from sklearn.preprocessing import StandardScaler"
   ]
  },
  {
   "cell_type": "code",
   "execution_count": 58,
   "metadata": {},
   "outputs": [
    {
     "data": {
      "text/plain": [
       "-66.77345"
      ]
     },
     "execution_count": 58,
     "metadata": {},
     "output_type": "execute_result"
    }
   ],
   "source": [
    "np.min(x_train)"
   ]
  },
  {
   "cell_type": "code",
   "execution_count": 59,
   "metadata": {},
   "outputs": [
    {
     "data": {
      "text/plain": [
       "317.9566"
      ]
     },
     "execution_count": 59,
     "metadata": {},
     "output_type": "execute_result"
    }
   ],
   "source": [
    "np.max(x_train)"
   ]
  },
  {
   "cell_type": "code",
   "execution_count": 60,
   "metadata": {},
   "outputs": [],
   "source": [
    "std_scaler = StandardScaler()"
   ]
  },
  {
   "cell_type": "code",
   "execution_count": 61,
   "metadata": {},
   "outputs": [],
   "source": [
    "scaler_fit = std_scaler.fit(x_train[:].reshape(x_train_shape[0]*x_train_shape[1]*x_train_shape[2], x_train_shape[3]))"
   ]
  },
  {
   "cell_type": "code",
   "execution_count": 62,
   "metadata": {},
   "outputs": [],
   "source": [
    "x_train_scaled = scaler_fit.transform(x_train.reshape(x_train_shape[0]*x_train_shape[1]*x_train_shape[2], x_train_shape[3]))"
   ]
  },
  {
   "cell_type": "code",
   "execution_count": 63,
   "metadata": {},
   "outputs": [],
   "source": [
    "x_train_scaled = x_train_scaled.reshape(x_train_shape[0], x_train_shape[1], x_train_shape[2], x_train_shape[3])"
   ]
  },
  {
   "cell_type": "code",
   "execution_count": 64,
   "metadata": {},
   "outputs": [
    {
     "data": {
      "text/plain": [
       "(24802, 128, 128, 3)"
      ]
     },
     "execution_count": 64,
     "metadata": {},
     "output_type": "execute_result"
    }
   ],
   "source": [
    "x_train_scaled.shape"
   ]
  },
  {
   "cell_type": "code",
   "execution_count": 65,
   "metadata": {},
   "outputs": [
    {
     "data": {
      "text/plain": [
       "-2.082073"
      ]
     },
     "execution_count": 65,
     "metadata": {},
     "output_type": "execute_result"
    }
   ],
   "source": [
    "np.min(x_train_scaled)"
   ]
  },
  {
   "cell_type": "code",
   "execution_count": 66,
   "metadata": {},
   "outputs": [
    {
     "data": {
      "text/plain": [
       "2.5491774"
      ]
     },
     "execution_count": 66,
     "metadata": {},
     "output_type": "execute_result"
    }
   ],
   "source": [
    "np.max(x_train_scaled)"
   ]
  },
  {
   "cell_type": "code",
   "execution_count": 67,
   "metadata": {},
   "outputs": [],
   "source": [
    "x_test_scaled = scaler_fit.transform(x_test.reshape(x_test_shape[0]*x_test_shape[1]*x_test_shape[2], x_test_shape[3]))"
   ]
  },
  {
   "cell_type": "code",
   "execution_count": 68,
   "metadata": {},
   "outputs": [
    {
     "data": {
      "text/plain": [
       "(2756, 128, 128, 3)"
      ]
     },
     "execution_count": 68,
     "metadata": {},
     "output_type": "execute_result"
    }
   ],
   "source": [
    "x_test_scaled = x_test_scaled.reshape(x_test_shape[0],x_test_shape[1],x_test_shape[2], x_test_shape[3])\n",
    "x_test_scaled.shape"
   ]
  },
  {
   "cell_type": "code",
   "execution_count": 69,
   "metadata": {},
   "outputs": [
    {
     "data": {
      "text/plain": [
       "-2.0594797"
      ]
     },
     "execution_count": 69,
     "metadata": {},
     "output_type": "execute_result"
    }
   ],
   "source": [
    "np.min(x_test_scaled)"
   ]
  },
  {
   "cell_type": "code",
   "execution_count": 70,
   "metadata": {},
   "outputs": [
    {
     "data": {
      "text/plain": [
       "2.28391"
      ]
     },
     "execution_count": 70,
     "metadata": {},
     "output_type": "execute_result"
    }
   ],
   "source": [
    "np.max(x_test_scaled)"
   ]
  },
  {
   "cell_type": "code",
   "execution_count": null,
   "metadata": {},
   "outputs": [],
   "source": []
  },
  {
   "cell_type": "code",
   "execution_count": 71,
   "metadata": {
    "colab": {
     "base_uri": "https://localhost:8080/",
     "height": 35
    },
    "colab_type": "code",
    "id": "xaOkLKhW7FdD",
    "outputId": "63b58314-0067-46c0-c661-95d367c9eed8"
   },
   "outputs": [
    {
     "data": {
      "text/plain": [
       "0.1111111111111111"
      ]
     },
     "execution_count": 71,
     "metadata": {},
     "output_type": "execute_result"
    }
   ],
   "source": [
    "# validation size will be\n",
    "1/9"
   ]
  },
  {
   "cell_type": "code",
   "execution_count": 72,
   "metadata": {
    "colab": {},
    "colab_type": "code",
    "id": "f1K1laBx5jZi"
   },
   "outputs": [],
   "source": [
    "x_train_scaled, x_valid_scaled, y_train, y_valid = train_test_split(x_train_scaled, y_train, test_size=0.11, shuffle = True, \n",
    "                                                    random_state=random_seed, stratify = y_train)"
   ]
  },
  {
   "cell_type": "code",
   "execution_count": 73,
   "metadata": {
    "colab": {
     "base_uri": "https://localhost:8080/",
     "height": 35
    },
    "colab_type": "code",
    "id": "8wufoNMz4XA7",
    "outputId": "2f9f4b93-d168-4f7d-c624-3b7e635bcdc4"
   },
   "outputs": [
    {
     "data": {
      "text/plain": [
       "22073"
      ]
     },
     "execution_count": 73,
     "metadata": {},
     "output_type": "execute_result"
    }
   ],
   "source": [
    "len(x_train_scaled)"
   ]
  },
  {
   "cell_type": "code",
   "execution_count": 74,
   "metadata": {
    "colab": {
     "base_uri": "https://localhost:8080/",
     "height": 35
    },
    "colab_type": "code",
    "id": "1_GLfIPN7c9M",
    "outputId": "c96907d7-e728-48e5-ac2c-c9d9a7bdf665"
   },
   "outputs": [
    {
     "data": {
      "text/plain": [
       "2729"
      ]
     },
     "execution_count": 74,
     "metadata": {},
     "output_type": "execute_result"
    }
   ],
   "source": [
    "len(x_valid_scaled)"
   ]
  },
  {
   "cell_type": "code",
   "execution_count": 75,
   "metadata": {},
   "outputs": [
    {
     "data": {
      "text/plain": [
       "262"
      ]
     },
     "execution_count": 75,
     "metadata": {},
     "output_type": "execute_result"
    }
   ],
   "source": [
    "del x_train, x_test\n",
    "gc.collect()"
   ]
  },
  {
   "cell_type": "code",
   "execution_count": null,
   "metadata": {},
   "outputs": [],
   "source": []
  },
  {
   "cell_type": "markdown",
   "metadata": {
    "colab_type": "text",
    "id": "s4foxSD78Ng4"
   },
   "source": [
    "#### Creating a tf.data dataset"
   ]
  },
  {
   "cell_type": "code",
   "execution_count": 82,
   "metadata": {
    "colab": {},
    "colab_type": "code",
    "id": "whXpi_vL8a4X"
   },
   "outputs": [],
   "source": [
    "# need to have the right label names\n",
    "input_label = 'image' \n",
    "output_label = 'disease_label'"
   ]
  },
  {
   "cell_type": "code",
   "execution_count": 83,
   "metadata": {
    "colab": {
     "base_uri": "https://localhost:8080/",
     "height": 35
    },
    "colab_type": "code",
    "id": "hJ0lj-K6SuCn",
    "outputId": "864b9d55-46ad-41c1-ccee-ac2b6194d38a"
   },
   "outputs": [],
   "source": [
    "starttime =time.time()\n",
    "train_dataset = tf.data.Dataset.from_tensor_slices(({input_label:x_train_scaled}, {output_label:y_train}))\n",
    "endtime = time.time()"
   ]
  },
  {
   "cell_type": "code",
   "execution_count": 84,
   "metadata": {},
   "outputs": [
    {
     "data": {
      "text/plain": [
       "2.383526086807251"
      ]
     },
     "execution_count": 84,
     "metadata": {},
     "output_type": "execute_result"
    }
   ],
   "source": [
    "endtime-starttime"
   ]
  },
  {
   "cell_type": "code",
   "execution_count": 86,
   "metadata": {},
   "outputs": [
    {
     "name": "stdout",
     "output_type": "stream",
     "text": [
      "({'image': <tf.Tensor: id=71288, shape=(128, 128, 3), dtype=float32, numpy=\n",
      "array([[[-1.3269409, -1.3147606, -1.3284621],\n",
      "        [-1.3269409, -1.3147606, -1.3284621],\n",
      "        [-1.3269409, -1.3147606, -1.3284621],\n",
      "        ...,\n",
      "        [-1.3269409, -1.3147606, -1.3284621],\n",
      "        [-1.3269409, -1.3147606, -1.3284621],\n",
      "        [-1.3269409, -1.3147606, -1.3284621]],\n",
      "\n",
      "       [[-1.3269409, -1.3147606, -1.3284621],\n",
      "        [-1.3269409, -1.3147606, -1.3284621],\n",
      "        [-1.3269409, -1.3147606, -1.3284621],\n",
      "        ...,\n",
      "        [-1.3269409, -1.3147606, -1.3284621],\n",
      "        [-1.3269409, -1.3147606, -1.3284621],\n",
      "        [-1.3269409, -1.3147606, -1.3284621]],\n",
      "\n",
      "       [[-1.3269409, -1.3147606, -1.3284621],\n",
      "        [-1.3269409, -1.3147606, -1.3284621],\n",
      "        [-1.3269409, -1.3147606, -1.3284621],\n",
      "        ...,\n",
      "        [-1.3269409, -1.3147606, -1.3284621],\n",
      "        [-1.3269409, -1.3147606, -1.3284621],\n",
      "        [-1.3269409, -1.3147606, -1.3284621]],\n",
      "\n",
      "       ...,\n",
      "\n",
      "       [[-1.3269409, -1.3147606, -1.3284621],\n",
      "        [-1.3269409, -1.3147606, -1.3284621],\n",
      "        [-1.3269409, -1.3147606, -1.3284621],\n",
      "        ...,\n",
      "        [-1.3269409, -1.3147606, -1.3284621],\n",
      "        [-1.3269409, -1.3147606, -1.3284621],\n",
      "        [-1.3269409, -1.3147606, -1.3284621]],\n",
      "\n",
      "       [[-1.3269409, -1.3147606, -1.3284621],\n",
      "        [-1.3269409, -1.3147606, -1.3284621],\n",
      "        [-1.3269409, -1.3147606, -1.3284621],\n",
      "        ...,\n",
      "        [-1.3269409, -1.3147606, -1.3284621],\n",
      "        [-1.3269409, -1.3147606, -1.3284621],\n",
      "        [-1.3269409, -1.3147606, -1.3284621]],\n",
      "\n",
      "       [[-1.3269409, -1.3147606, -1.3284621],\n",
      "        [-1.3269409, -1.3147606, -1.3284621],\n",
      "        [-1.3269409, -1.3147606, -1.3284621],\n",
      "        ...,\n",
      "        [-1.3269409, -1.3147606, -1.3284621],\n",
      "        [-1.3269409, -1.3147606, -1.3284621],\n",
      "        [-1.3269409, -1.3147606, -1.3284621]]], dtype=float32)>}, {'disease_label': <tf.Tensor: id=71289, shape=(2,), dtype=float64, numpy=array([0., 1.])>})\n"
     ]
    }
   ],
   "source": [
    "for test_image in train_dataset.take(1):\n",
    "    print(test_image)"
   ]
  },
  {
   "cell_type": "code",
   "execution_count": 87,
   "metadata": {
    "colab": {},
    "colab_type": "code",
    "id": "KTyU8hVR9Td3"
   },
   "outputs": [],
   "source": [
    "validation_dataset = tf.data.Dataset.from_tensor_slices(({input_label:x_valid_scaled}, {output_label:y_valid}))\n",
    "test_dataset = tf.data.Dataset.from_tensor_slices(({input_label:x_test_scaled}, {output_label:y_test}))"
   ]
  },
  {
   "cell_type": "markdown",
   "metadata": {},
   "source": [
    "        * Huge increase in memory consumption. Total is 1.6 GB + 5.4 GB + 6.0 GB"
   ]
  },
  {
   "cell_type": "code",
   "execution_count": 88,
   "metadata": {},
   "outputs": [
    {
     "data": {
      "text/plain": [
       "3909"
      ]
     },
     "execution_count": 88,
     "metadata": {},
     "output_type": "execute_result"
    }
   ],
   "source": [
    "del x_train_scaled, x_test_scaled, x_valid_scaled\n",
    "gc.collect()"
   ]
  },
  {
   "cell_type": "code",
   "execution_count": 89,
   "metadata": {},
   "outputs": [],
   "source": [
    "batch_size = 16\n",
    "# shuffle_buffer_size = 1000, no need to shuffle as already shuffled by train_test_split function of sklearn"
   ]
  },
  {
   "cell_type": "code",
   "execution_count": 90,
   "metadata": {},
   "outputs": [],
   "source": [
    "train_dataset = train_dataset.batch(batch_size=batch_size, drop_remainder=True)\n",
    "validation_dataset = validation_dataset.batch(batch_size=batch_size)\n",
    "test_dataset = test_dataset.batch(batch_size=batch_size)"
   ]
  },
  {
   "cell_type": "code",
   "execution_count": 91,
   "metadata": {},
   "outputs": [],
   "source": [
    "train_dataset = train_dataset.prefetch(buffer_size=tf.data.experimental.AUTOTUNE)\n",
    "validation_dataset = validation_dataset.prefetch(buffer_size=tf.data.experimental.AUTOTUNE)\n",
    "test_dataset = test_dataset.prefetch(buffer_size=tf.data.experimental.AUTOTUNE)"
   ]
  },
  {
   "cell_type": "code",
   "execution_count": 92,
   "metadata": {},
   "outputs": [
    {
     "data": {
      "text/plain": [
       "0"
      ]
     },
     "execution_count": 92,
     "metadata": {},
     "output_type": "execute_result"
    }
   ],
   "source": [
    "gc.collect()"
   ]
  },
  {
   "cell_type": "markdown",
   "metadata": {},
   "source": [
    "### Base Model for Transfer Learning"
   ]
  },
  {
   "cell_type": "code",
   "execution_count": 76,
   "metadata": {},
   "outputs": [
    {
     "data": {
      "text/plain": [
       "(128, 128, 3)"
      ]
     },
     "execution_count": 76,
     "metadata": {},
     "output_type": "execute_result"
    }
   ],
   "source": [
    "image_shape = (resize, resize, 3)\n",
    "image_shape"
   ]
  },
  {
   "cell_type": "code",
   "execution_count": 79,
   "metadata": {},
   "outputs": [],
   "source": [
    "input_layer =  tf.keras.layers.Input(shape=image_shape, batch_size=None, name = 'image')"
   ]
  },
  {
   "cell_type": "code",
   "execution_count": 100,
   "metadata": {},
   "outputs": [],
   "source": [
    "tf.keras.backend.clear_session()"
   ]
  },
  {
   "cell_type": "code",
   "execution_count": 98,
   "metadata": {},
   "outputs": [
    {
     "name": "stderr",
     "output_type": "stream",
     "text": [
      "/home/sameer/datascience/lib/python3.6/site-packages/keras_applications/mobilenet_v2.py:294: UserWarning: `input_shape` is undefined or non-square, or `rows` is not in [96, 128, 160, 192, 224]. Weights for input shape (224, 224) will be loaded as the default.\n",
      "  warnings.warn('`input_shape` is undefined or non-square, '\n"
     ]
    }
   ],
   "source": [
    "# Not including the input_shape here as the input_layer cannot be renamed\n",
    "base_model = tf.keras.applications.MobileNetV2(include_top = False, weights = 'imagenet')"
   ]
  },
  {
   "cell_type": "code",
   "execution_count": 101,
   "metadata": {},
   "outputs": [
    {
     "name": "stdout",
     "output_type": "stream",
     "text": [
      "Model: \"mobilenetv2_1.00_224\"\n",
      "__________________________________________________________________________________________________\n",
      "Layer (type)                    Output Shape         Param #     Connected to                     \n",
      "==================================================================================================\n",
      "input_3 (InputLayer)            [(None, None, None,  0                                            \n",
      "__________________________________________________________________________________________________\n",
      "Conv1_pad (ZeroPadding2D)       (None, None, None, 3 0           input_3[0][0]                    \n",
      "__________________________________________________________________________________________________\n",
      "Conv1 (Conv2D)                  (None, None, None, 3 864         Conv1_pad[0][0]                  \n",
      "__________________________________________________________________________________________________\n",
      "bn_Conv1 (BatchNormalization)   (None, None, None, 3 128         Conv1[0][0]                      \n",
      "__________________________________________________________________________________________________\n",
      "Conv1_relu (ReLU)               (None, None, None, 3 0           bn_Conv1[0][0]                   \n",
      "__________________________________________________________________________________________________\n",
      "expanded_conv_depthwise (Depthw (None, None, None, 3 288         Conv1_relu[0][0]                 \n",
      "__________________________________________________________________________________________________\n",
      "expanded_conv_depthwise_BN (Bat (None, None, None, 3 128         expanded_conv_depthwise[0][0]    \n",
      "__________________________________________________________________________________________________\n",
      "expanded_conv_depthwise_relu (R (None, None, None, 3 0           expanded_conv_depthwise_BN[0][0] \n",
      "__________________________________________________________________________________________________\n",
      "expanded_conv_project (Conv2D)  (None, None, None, 1 512         expanded_conv_depthwise_relu[0][0\n",
      "__________________________________________________________________________________________________\n",
      "expanded_conv_project_BN (Batch (None, None, None, 1 64          expanded_conv_project[0][0]      \n",
      "__________________________________________________________________________________________________\n",
      "block_1_expand (Conv2D)         (None, None, None, 9 1536        expanded_conv_project_BN[0][0]   \n",
      "__________________________________________________________________________________________________\n",
      "block_1_expand_BN (BatchNormali (None, None, None, 9 384         block_1_expand[0][0]             \n",
      "__________________________________________________________________________________________________\n",
      "block_1_expand_relu (ReLU)      (None, None, None, 9 0           block_1_expand_BN[0][0]          \n",
      "__________________________________________________________________________________________________\n",
      "block_1_pad (ZeroPadding2D)     (None, None, None, 9 0           block_1_expand_relu[0][0]        \n",
      "__________________________________________________________________________________________________\n",
      "block_1_depthwise (DepthwiseCon (None, None, None, 9 864         block_1_pad[0][0]                \n",
      "__________________________________________________________________________________________________\n",
      "block_1_depthwise_BN (BatchNorm (None, None, None, 9 384         block_1_depthwise[0][0]          \n",
      "__________________________________________________________________________________________________\n",
      "block_1_depthwise_relu (ReLU)   (None, None, None, 9 0           block_1_depthwise_BN[0][0]       \n",
      "__________________________________________________________________________________________________\n",
      "block_1_project (Conv2D)        (None, None, None, 2 2304        block_1_depthwise_relu[0][0]     \n",
      "__________________________________________________________________________________________________\n",
      "block_1_project_BN (BatchNormal (None, None, None, 2 96          block_1_project[0][0]            \n",
      "__________________________________________________________________________________________________\n",
      "block_2_expand (Conv2D)         (None, None, None, 1 3456        block_1_project_BN[0][0]         \n",
      "__________________________________________________________________________________________________\n",
      "block_2_expand_BN (BatchNormali (None, None, None, 1 576         block_2_expand[0][0]             \n",
      "__________________________________________________________________________________________________\n",
      "block_2_expand_relu (ReLU)      (None, None, None, 1 0           block_2_expand_BN[0][0]          \n",
      "__________________________________________________________________________________________________\n",
      "block_2_depthwise (DepthwiseCon (None, None, None, 1 1296        block_2_expand_relu[0][0]        \n",
      "__________________________________________________________________________________________________\n",
      "block_2_depthwise_BN (BatchNorm (None, None, None, 1 576         block_2_depthwise[0][0]          \n",
      "__________________________________________________________________________________________________\n",
      "block_2_depthwise_relu (ReLU)   (None, None, None, 1 0           block_2_depthwise_BN[0][0]       \n",
      "__________________________________________________________________________________________________\n",
      "block_2_project (Conv2D)        (None, None, None, 2 3456        block_2_depthwise_relu[0][0]     \n",
      "__________________________________________________________________________________________________\n",
      "block_2_project_BN (BatchNormal (None, None, None, 2 96          block_2_project[0][0]            \n",
      "__________________________________________________________________________________________________\n",
      "block_2_add (Add)               (None, None, None, 2 0           block_1_project_BN[0][0]         \n",
      "                                                                 block_2_project_BN[0][0]         \n",
      "__________________________________________________________________________________________________\n",
      "block_3_expand (Conv2D)         (None, None, None, 1 3456        block_2_add[0][0]                \n",
      "__________________________________________________________________________________________________\n",
      "block_3_expand_BN (BatchNormali (None, None, None, 1 576         block_3_expand[0][0]             \n",
      "__________________________________________________________________________________________________\n",
      "block_3_expand_relu (ReLU)      (None, None, None, 1 0           block_3_expand_BN[0][0]          \n",
      "__________________________________________________________________________________________________\n",
      "block_3_pad (ZeroPadding2D)     (None, None, None, 1 0           block_3_expand_relu[0][0]        \n",
      "__________________________________________________________________________________________________\n",
      "block_3_depthwise (DepthwiseCon (None, None, None, 1 1296        block_3_pad[0][0]                \n",
      "__________________________________________________________________________________________________\n",
      "block_3_depthwise_BN (BatchNorm (None, None, None, 1 576         block_3_depthwise[0][0]          \n",
      "__________________________________________________________________________________________________\n",
      "block_3_depthwise_relu (ReLU)   (None, None, None, 1 0           block_3_depthwise_BN[0][0]       \n",
      "__________________________________________________________________________________________________\n",
      "block_3_project (Conv2D)        (None, None, None, 3 4608        block_3_depthwise_relu[0][0]     \n",
      "__________________________________________________________________________________________________\n",
      "block_3_project_BN (BatchNormal (None, None, None, 3 128         block_3_project[0][0]            \n",
      "__________________________________________________________________________________________________\n",
      "block_4_expand (Conv2D)         (None, None, None, 1 6144        block_3_project_BN[0][0]         \n",
      "__________________________________________________________________________________________________\n",
      "block_4_expand_BN (BatchNormali (None, None, None, 1 768         block_4_expand[0][0]             \n",
      "__________________________________________________________________________________________________\n",
      "block_4_expand_relu (ReLU)      (None, None, None, 1 0           block_4_expand_BN[0][0]          \n",
      "__________________________________________________________________________________________________\n",
      "block_4_depthwise (DepthwiseCon (None, None, None, 1 1728        block_4_expand_relu[0][0]        \n",
      "__________________________________________________________________________________________________\n",
      "block_4_depthwise_BN (BatchNorm (None, None, None, 1 768         block_4_depthwise[0][0]          \n",
      "__________________________________________________________________________________________________\n",
      "block_4_depthwise_relu (ReLU)   (None, None, None, 1 0           block_4_depthwise_BN[0][0]       \n",
      "__________________________________________________________________________________________________\n",
      "block_4_project (Conv2D)        (None, None, None, 3 6144        block_4_depthwise_relu[0][0]     \n",
      "__________________________________________________________________________________________________\n",
      "block_4_project_BN (BatchNormal (None, None, None, 3 128         block_4_project[0][0]            \n",
      "__________________________________________________________________________________________________\n",
      "block_4_add (Add)               (None, None, None, 3 0           block_3_project_BN[0][0]         \n",
      "                                                                 block_4_project_BN[0][0]         \n",
      "__________________________________________________________________________________________________\n",
      "block_5_expand (Conv2D)         (None, None, None, 1 6144        block_4_add[0][0]                \n",
      "__________________________________________________________________________________________________\n",
      "block_5_expand_BN (BatchNormali (None, None, None, 1 768         block_5_expand[0][0]             \n",
      "__________________________________________________________________________________________________\n",
      "block_5_expand_relu (ReLU)      (None, None, None, 1 0           block_5_expand_BN[0][0]          \n",
      "__________________________________________________________________________________________________\n",
      "block_5_depthwise (DepthwiseCon (None, None, None, 1 1728        block_5_expand_relu[0][0]        \n",
      "__________________________________________________________________________________________________\n",
      "block_5_depthwise_BN (BatchNorm (None, None, None, 1 768         block_5_depthwise[0][0]          \n",
      "__________________________________________________________________________________________________\n",
      "block_5_depthwise_relu (ReLU)   (None, None, None, 1 0           block_5_depthwise_BN[0][0]       \n",
      "__________________________________________________________________________________________________\n",
      "block_5_project (Conv2D)        (None, None, None, 3 6144        block_5_depthwise_relu[0][0]     \n",
      "__________________________________________________________________________________________________\n",
      "block_5_project_BN (BatchNormal (None, None, None, 3 128         block_5_project[0][0]            \n",
      "__________________________________________________________________________________________________\n",
      "block_5_add (Add)               (None, None, None, 3 0           block_4_add[0][0]                \n",
      "                                                                 block_5_project_BN[0][0]         \n",
      "__________________________________________________________________________________________________\n",
      "block_6_expand (Conv2D)         (None, None, None, 1 6144        block_5_add[0][0]                \n",
      "__________________________________________________________________________________________________\n",
      "block_6_expand_BN (BatchNormali (None, None, None, 1 768         block_6_expand[0][0]             \n",
      "__________________________________________________________________________________________________\n",
      "block_6_expand_relu (ReLU)      (None, None, None, 1 0           block_6_expand_BN[0][0]          \n",
      "__________________________________________________________________________________________________\n",
      "block_6_pad (ZeroPadding2D)     (None, None, None, 1 0           block_6_expand_relu[0][0]        \n",
      "__________________________________________________________________________________________________\n",
      "block_6_depthwise (DepthwiseCon (None, None, None, 1 1728        block_6_pad[0][0]                \n",
      "__________________________________________________________________________________________________\n",
      "block_6_depthwise_BN (BatchNorm (None, None, None, 1 768         block_6_depthwise[0][0]          \n",
      "__________________________________________________________________________________________________\n",
      "block_6_depthwise_relu (ReLU)   (None, None, None, 1 0           block_6_depthwise_BN[0][0]       \n",
      "__________________________________________________________________________________________________\n",
      "block_6_project (Conv2D)        (None, None, None, 6 12288       block_6_depthwise_relu[0][0]     \n",
      "__________________________________________________________________________________________________\n",
      "block_6_project_BN (BatchNormal (None, None, None, 6 256         block_6_project[0][0]            \n",
      "__________________________________________________________________________________________________\n",
      "block_7_expand (Conv2D)         (None, None, None, 3 24576       block_6_project_BN[0][0]         \n",
      "__________________________________________________________________________________________________\n",
      "block_7_expand_BN (BatchNormali (None, None, None, 3 1536        block_7_expand[0][0]             \n",
      "__________________________________________________________________________________________________\n",
      "block_7_expand_relu (ReLU)      (None, None, None, 3 0           block_7_expand_BN[0][0]          \n",
      "__________________________________________________________________________________________________\n",
      "block_7_depthwise (DepthwiseCon (None, None, None, 3 3456        block_7_expand_relu[0][0]        \n",
      "__________________________________________________________________________________________________\n",
      "block_7_depthwise_BN (BatchNorm (None, None, None, 3 1536        block_7_depthwise[0][0]          \n",
      "__________________________________________________________________________________________________\n",
      "block_7_depthwise_relu (ReLU)   (None, None, None, 3 0           block_7_depthwise_BN[0][0]       \n",
      "__________________________________________________________________________________________________\n",
      "block_7_project (Conv2D)        (None, None, None, 6 24576       block_7_depthwise_relu[0][0]     \n",
      "__________________________________________________________________________________________________\n",
      "block_7_project_BN (BatchNormal (None, None, None, 6 256         block_7_project[0][0]            \n",
      "__________________________________________________________________________________________________\n",
      "block_7_add (Add)               (None, None, None, 6 0           block_6_project_BN[0][0]         \n",
      "                                                                 block_7_project_BN[0][0]         \n",
      "__________________________________________________________________________________________________\n",
      "block_8_expand (Conv2D)         (None, None, None, 3 24576       block_7_add[0][0]                \n",
      "__________________________________________________________________________________________________\n",
      "block_8_expand_BN (BatchNormali (None, None, None, 3 1536        block_8_expand[0][0]             \n",
      "__________________________________________________________________________________________________\n",
      "block_8_expand_relu (ReLU)      (None, None, None, 3 0           block_8_expand_BN[0][0]          \n",
      "__________________________________________________________________________________________________\n",
      "block_8_depthwise (DepthwiseCon (None, None, None, 3 3456        block_8_expand_relu[0][0]        \n",
      "__________________________________________________________________________________________________\n",
      "block_8_depthwise_BN (BatchNorm (None, None, None, 3 1536        block_8_depthwise[0][0]          \n",
      "__________________________________________________________________________________________________\n",
      "block_8_depthwise_relu (ReLU)   (None, None, None, 3 0           block_8_depthwise_BN[0][0]       \n",
      "__________________________________________________________________________________________________\n",
      "block_8_project (Conv2D)        (None, None, None, 6 24576       block_8_depthwise_relu[0][0]     \n",
      "__________________________________________________________________________________________________\n",
      "block_8_project_BN (BatchNormal (None, None, None, 6 256         block_8_project[0][0]            \n",
      "__________________________________________________________________________________________________\n",
      "block_8_add (Add)               (None, None, None, 6 0           block_7_add[0][0]                \n",
      "                                                                 block_8_project_BN[0][0]         \n",
      "__________________________________________________________________________________________________\n",
      "block_9_expand (Conv2D)         (None, None, None, 3 24576       block_8_add[0][0]                \n",
      "__________________________________________________________________________________________________\n",
      "block_9_expand_BN (BatchNormali (None, None, None, 3 1536        block_9_expand[0][0]             \n",
      "__________________________________________________________________________________________________\n",
      "block_9_expand_relu (ReLU)      (None, None, None, 3 0           block_9_expand_BN[0][0]          \n",
      "__________________________________________________________________________________________________\n",
      "block_9_depthwise (DepthwiseCon (None, None, None, 3 3456        block_9_expand_relu[0][0]        \n",
      "__________________________________________________________________________________________________\n",
      "block_9_depthwise_BN (BatchNorm (None, None, None, 3 1536        block_9_depthwise[0][0]          \n",
      "__________________________________________________________________________________________________\n",
      "block_9_depthwise_relu (ReLU)   (None, None, None, 3 0           block_9_depthwise_BN[0][0]       \n",
      "__________________________________________________________________________________________________\n",
      "block_9_project (Conv2D)        (None, None, None, 6 24576       block_9_depthwise_relu[0][0]     \n",
      "__________________________________________________________________________________________________\n",
      "block_9_project_BN (BatchNormal (None, None, None, 6 256         block_9_project[0][0]            \n",
      "__________________________________________________________________________________________________\n",
      "block_9_add (Add)               (None, None, None, 6 0           block_8_add[0][0]                \n",
      "                                                                 block_9_project_BN[0][0]         \n",
      "__________________________________________________________________________________________________\n",
      "block_10_expand (Conv2D)        (None, None, None, 3 24576       block_9_add[0][0]                \n",
      "__________________________________________________________________________________________________\n",
      "block_10_expand_BN (BatchNormal (None, None, None, 3 1536        block_10_expand[0][0]            \n",
      "__________________________________________________________________________________________________\n",
      "block_10_expand_relu (ReLU)     (None, None, None, 3 0           block_10_expand_BN[0][0]         \n",
      "__________________________________________________________________________________________________\n",
      "block_10_depthwise (DepthwiseCo (None, None, None, 3 3456        block_10_expand_relu[0][0]       \n",
      "__________________________________________________________________________________________________\n",
      "block_10_depthwise_BN (BatchNor (None, None, None, 3 1536        block_10_depthwise[0][0]         \n",
      "__________________________________________________________________________________________________\n",
      "block_10_depthwise_relu (ReLU)  (None, None, None, 3 0           block_10_depthwise_BN[0][0]      \n",
      "__________________________________________________________________________________________________\n",
      "block_10_project (Conv2D)       (None, None, None, 9 36864       block_10_depthwise_relu[0][0]    \n",
      "__________________________________________________________________________________________________\n",
      "block_10_project_BN (BatchNorma (None, None, None, 9 384         block_10_project[0][0]           \n",
      "__________________________________________________________________________________________________\n",
      "block_11_expand (Conv2D)        (None, None, None, 5 55296       block_10_project_BN[0][0]        \n",
      "__________________________________________________________________________________________________\n",
      "block_11_expand_BN (BatchNormal (None, None, None, 5 2304        block_11_expand[0][0]            \n",
      "__________________________________________________________________________________________________\n",
      "block_11_expand_relu (ReLU)     (None, None, None, 5 0           block_11_expand_BN[0][0]         \n",
      "__________________________________________________________________________________________________\n",
      "block_11_depthwise (DepthwiseCo (None, None, None, 5 5184        block_11_expand_relu[0][0]       \n",
      "__________________________________________________________________________________________________\n",
      "block_11_depthwise_BN (BatchNor (None, None, None, 5 2304        block_11_depthwise[0][0]         \n",
      "__________________________________________________________________________________________________\n",
      "block_11_depthwise_relu (ReLU)  (None, None, None, 5 0           block_11_depthwise_BN[0][0]      \n",
      "__________________________________________________________________________________________________\n",
      "block_11_project (Conv2D)       (None, None, None, 9 55296       block_11_depthwise_relu[0][0]    \n",
      "__________________________________________________________________________________________________\n",
      "block_11_project_BN (BatchNorma (None, None, None, 9 384         block_11_project[0][0]           \n",
      "__________________________________________________________________________________________________\n",
      "block_11_add (Add)              (None, None, None, 9 0           block_10_project_BN[0][0]        \n",
      "                                                                 block_11_project_BN[0][0]        \n",
      "__________________________________________________________________________________________________\n",
      "block_12_expand (Conv2D)        (None, None, None, 5 55296       block_11_add[0][0]               \n",
      "__________________________________________________________________________________________________\n",
      "block_12_expand_BN (BatchNormal (None, None, None, 5 2304        block_12_expand[0][0]            \n",
      "__________________________________________________________________________________________________\n",
      "block_12_expand_relu (ReLU)     (None, None, None, 5 0           block_12_expand_BN[0][0]         \n",
      "__________________________________________________________________________________________________\n",
      "block_12_depthwise (DepthwiseCo (None, None, None, 5 5184        block_12_expand_relu[0][0]       \n",
      "__________________________________________________________________________________________________\n",
      "block_12_depthwise_BN (BatchNor (None, None, None, 5 2304        block_12_depthwise[0][0]         \n",
      "__________________________________________________________________________________________________\n",
      "block_12_depthwise_relu (ReLU)  (None, None, None, 5 0           block_12_depthwise_BN[0][0]      \n",
      "__________________________________________________________________________________________________\n",
      "block_12_project (Conv2D)       (None, None, None, 9 55296       block_12_depthwise_relu[0][0]    \n",
      "__________________________________________________________________________________________________\n",
      "block_12_project_BN (BatchNorma (None, None, None, 9 384         block_12_project[0][0]           \n",
      "__________________________________________________________________________________________________\n",
      "block_12_add (Add)              (None, None, None, 9 0           block_11_add[0][0]               \n",
      "                                                                 block_12_project_BN[0][0]        \n",
      "__________________________________________________________________________________________________\n",
      "block_13_expand (Conv2D)        (None, None, None, 5 55296       block_12_add[0][0]               \n",
      "__________________________________________________________________________________________________\n",
      "block_13_expand_BN (BatchNormal (None, None, None, 5 2304        block_13_expand[0][0]            \n",
      "__________________________________________________________________________________________________\n",
      "block_13_expand_relu (ReLU)     (None, None, None, 5 0           block_13_expand_BN[0][0]         \n",
      "__________________________________________________________________________________________________\n",
      "block_13_pad (ZeroPadding2D)    (None, None, None, 5 0           block_13_expand_relu[0][0]       \n",
      "__________________________________________________________________________________________________\n",
      "block_13_depthwise (DepthwiseCo (None, None, None, 5 5184        block_13_pad[0][0]               \n",
      "__________________________________________________________________________________________________\n",
      "block_13_depthwise_BN (BatchNor (None, None, None, 5 2304        block_13_depthwise[0][0]         \n",
      "__________________________________________________________________________________________________\n",
      "block_13_depthwise_relu (ReLU)  (None, None, None, 5 0           block_13_depthwise_BN[0][0]      \n",
      "__________________________________________________________________________________________________\n",
      "block_13_project (Conv2D)       (None, None, None, 1 92160       block_13_depthwise_relu[0][0]    \n",
      "__________________________________________________________________________________________________\n",
      "block_13_project_BN (BatchNorma (None, None, None, 1 640         block_13_project[0][0]           \n",
      "__________________________________________________________________________________________________\n",
      "block_14_expand (Conv2D)        (None, None, None, 9 153600      block_13_project_BN[0][0]        \n",
      "__________________________________________________________________________________________________\n",
      "block_14_expand_BN (BatchNormal (None, None, None, 9 3840        block_14_expand[0][0]            \n",
      "__________________________________________________________________________________________________\n",
      "block_14_expand_relu (ReLU)     (None, None, None, 9 0           block_14_expand_BN[0][0]         \n",
      "__________________________________________________________________________________________________\n",
      "block_14_depthwise (DepthwiseCo (None, None, None, 9 8640        block_14_expand_relu[0][0]       \n",
      "__________________________________________________________________________________________________\n",
      "block_14_depthwise_BN (BatchNor (None, None, None, 9 3840        block_14_depthwise[0][0]         \n",
      "__________________________________________________________________________________________________\n",
      "block_14_depthwise_relu (ReLU)  (None, None, None, 9 0           block_14_depthwise_BN[0][0]      \n",
      "__________________________________________________________________________________________________\n",
      "block_14_project (Conv2D)       (None, None, None, 1 153600      block_14_depthwise_relu[0][0]    \n",
      "__________________________________________________________________________________________________\n",
      "block_14_project_BN (BatchNorma (None, None, None, 1 640         block_14_project[0][0]           \n",
      "__________________________________________________________________________________________________\n",
      "block_14_add (Add)              (None, None, None, 1 0           block_13_project_BN[0][0]        \n",
      "                                                                 block_14_project_BN[0][0]        \n",
      "__________________________________________________________________________________________________\n",
      "block_15_expand (Conv2D)        (None, None, None, 9 153600      block_14_add[0][0]               \n",
      "__________________________________________________________________________________________________\n",
      "block_15_expand_BN (BatchNormal (None, None, None, 9 3840        block_15_expand[0][0]            \n",
      "__________________________________________________________________________________________________\n",
      "block_15_expand_relu (ReLU)     (None, None, None, 9 0           block_15_expand_BN[0][0]         \n",
      "__________________________________________________________________________________________________\n",
      "block_15_depthwise (DepthwiseCo (None, None, None, 9 8640        block_15_expand_relu[0][0]       \n",
      "__________________________________________________________________________________________________\n",
      "block_15_depthwise_BN (BatchNor (None, None, None, 9 3840        block_15_depthwise[0][0]         \n",
      "__________________________________________________________________________________________________\n",
      "block_15_depthwise_relu (ReLU)  (None, None, None, 9 0           block_15_depthwise_BN[0][0]      \n",
      "__________________________________________________________________________________________________\n",
      "block_15_project (Conv2D)       (None, None, None, 1 153600      block_15_depthwise_relu[0][0]    \n",
      "__________________________________________________________________________________________________\n",
      "block_15_project_BN (BatchNorma (None, None, None, 1 640         block_15_project[0][0]           \n",
      "__________________________________________________________________________________________________\n",
      "block_15_add (Add)              (None, None, None, 1 0           block_14_add[0][0]               \n",
      "                                                                 block_15_project_BN[0][0]        \n",
      "__________________________________________________________________________________________________\n",
      "block_16_expand (Conv2D)        (None, None, None, 9 153600      block_15_add[0][0]               \n",
      "__________________________________________________________________________________________________\n",
      "block_16_expand_BN (BatchNormal (None, None, None, 9 3840        block_16_expand[0][0]            \n",
      "__________________________________________________________________________________________________\n",
      "block_16_expand_relu (ReLU)     (None, None, None, 9 0           block_16_expand_BN[0][0]         \n",
      "__________________________________________________________________________________________________\n",
      "block_16_depthwise (DepthwiseCo (None, None, None, 9 8640        block_16_expand_relu[0][0]       \n",
      "__________________________________________________________________________________________________\n",
      "block_16_depthwise_BN (BatchNor (None, None, None, 9 3840        block_16_depthwise[0][0]         \n",
      "__________________________________________________________________________________________________\n",
      "block_16_depthwise_relu (ReLU)  (None, None, None, 9 0           block_16_depthwise_BN[0][0]      \n",
      "__________________________________________________________________________________________________\n",
      "block_16_project (Conv2D)       (None, None, None, 3 307200      block_16_depthwise_relu[0][0]    \n",
      "__________________________________________________________________________________________________\n",
      "block_16_project_BN (BatchNorma (None, None, None, 3 1280        block_16_project[0][0]           \n",
      "__________________________________________________________________________________________________\n",
      "Conv_1 (Conv2D)                 (None, None, None, 1 409600      block_16_project_BN[0][0]        \n",
      "__________________________________________________________________________________________________\n",
      "Conv_1_bn (BatchNormalization)  (None, None, None, 1 5120        Conv_1[0][0]                     \n",
      "__________________________________________________________________________________________________\n",
      "out_relu (ReLU)                 (None, None, None, 1 0           Conv_1_bn[0][0]                  \n",
      "==================================================================================================\n",
      "Total params: 2,257,984\n",
      "Trainable params: 2,223,872\n",
      "Non-trainable params: 34,112\n",
      "__________________________________________________________________________________________________\n"
     ]
    }
   ],
   "source": [
    "base_model.summary()"
   ]
  },
  {
   "cell_type": "code",
   "execution_count": 120,
   "metadata": {},
   "outputs": [],
   "source": [
    "base_model.trainable = False"
   ]
  },
  {
   "cell_type": "code",
   "execution_count": 121,
   "metadata": {},
   "outputs": [],
   "source": [
    "output_from_basemodel = base_model(input_layer)"
   ]
  },
  {
   "cell_type": "code",
   "execution_count": 122,
   "metadata": {},
   "outputs": [
    {
     "data": {
      "text/plain": [
       "TensorShape([None, 4, 4, 1280])"
      ]
     },
     "execution_count": 122,
     "metadata": {},
     "output_type": "execute_result"
    }
   ],
   "source": [
    "output_from_basemodel.shape"
   ]
  },
  {
   "cell_type": "code",
   "execution_count": null,
   "metadata": {},
   "outputs": [],
   "source": []
  },
  {
   "cell_type": "markdown",
   "metadata": {},
   "source": [
    "* Testing"
   ]
  },
  {
   "cell_type": "code",
   "execution_count": 95,
   "metadata": {},
   "outputs": [],
   "source": [
    "for test_image, test_label in train_dataset.take(1):\n",
    "    break"
   ]
  },
  {
   "cell_type": "code",
   "execution_count": 104,
   "metadata": {},
   "outputs": [
    {
     "name": "stdout",
     "output_type": "stream",
     "text": [
      "(16, 4, 4, 1280)\n"
     ]
    }
   ],
   "source": [
    "print(base_model(test_image).shape)"
   ]
  },
  {
   "cell_type": "code",
   "execution_count": 105,
   "metadata": {},
   "outputs": [],
   "source": [
    "global_pooling_layer = tf.keras.layers.GlobalAveragePooling2D(data_format='channels_last')"
   ]
  },
  {
   "cell_type": "code",
   "execution_count": 106,
   "metadata": {},
   "outputs": [
    {
     "data": {
      "text/plain": [
       "TensorShape([16, 1280])"
      ]
     },
     "execution_count": 106,
     "metadata": {},
     "output_type": "execute_result"
    }
   ],
   "source": [
    "global_pooling_layer(base_model(test_image)).shape"
   ]
  },
  {
   "cell_type": "code",
   "execution_count": 109,
   "metadata": {},
   "outputs": [],
   "source": [
    "fc_layer = tf.keras.layers.Dense(units = 2)"
   ]
  },
  {
   "cell_type": "code",
   "execution_count": 110,
   "metadata": {},
   "outputs": [
    {
     "data": {
      "text/plain": [
       "<tf.Tensor: id=84325, shape=(16, 2), dtype=float32, numpy=\n",
       "array([[-0.987419  ,  0.60740113],\n",
       "       [-1.8784158 ,  1.8470082 ],\n",
       "       [ 0.24190575,  1.9121573 ],\n",
       "       [ 1.6518005 , -0.815214  ],\n",
       "       [-1.1117821 , -0.16209775],\n",
       "       [-0.9336454 ,  1.8879719 ],\n",
       "       [ 0.47589225,  0.9061211 ],\n",
       "       [-2.2027354 ,  2.7864668 ],\n",
       "       [-0.943815  ,  2.3355737 ],\n",
       "       [-0.83518505,  0.7561829 ],\n",
       "       [-1.0957983 ,  1.0097857 ],\n",
       "       [ 0.23993677,  1.2341114 ],\n",
       "       [ 0.1692347 ,  1.6386415 ],\n",
       "       [ 0.7961185 ,  0.18704188],\n",
       "       [-0.12592602, -0.5513597 ],\n",
       "       [ 0.12187767,  1.1129222 ]], dtype=float32)>"
      ]
     },
     "execution_count": 110,
     "metadata": {},
     "output_type": "execute_result"
    }
   ],
   "source": [
    "fc_layer(global_pooling_layer(base_model(test_image)))"
   ]
  },
  {
   "cell_type": "code",
   "execution_count": 111,
   "metadata": {},
   "outputs": [
    {
     "data": {
      "text/plain": [
       "<tf.Tensor: id=85119, shape=(16, 2), dtype=float32, numpy=\n",
       "array([[0.72997636, 0.27002367],\n",
       "       [0.99806434, 0.00193562],\n",
       "       [0.99510217, 0.0048978 ],\n",
       "       [0.8966703 , 0.10332969],\n",
       "       [0.9761313 , 0.02386874],\n",
       "       [0.99067116, 0.00932882],\n",
       "       [0.9679957 , 0.03200432],\n",
       "       [0.98869085, 0.0113091 ],\n",
       "       [0.9941088 , 0.00589121],\n",
       "       [0.9925237 , 0.00747633],\n",
       "       [0.98467076, 0.01532929],\n",
       "       [0.5926814 , 0.40731862],\n",
       "       [0.8020957 , 0.19790427],\n",
       "       [0.96975255, 0.03024742],\n",
       "       [0.9483275 , 0.05167253],\n",
       "       [0.9771713 , 0.02282868]], dtype=float32)>"
      ]
     },
     "execution_count": 111,
     "metadata": {},
     "output_type": "execute_result"
    }
   ],
   "source": [
    "fc_layer = tf.keras.layers.Dense(units = 2, activation='softmax', name = output_label)\n",
    "fc_layer(global_pooling_layer(base_model(test_image)))"
   ]
  },
  {
   "cell_type": "markdown",
   "metadata": {},
   "source": [
    "* End Testing"
   ]
  },
  {
   "cell_type": "code",
   "execution_count": 112,
   "metadata": {},
   "outputs": [],
   "source": [
    "dropout_rate = 0.3\n",
    "dropout_layer = tf.keras.layers.GaussianDropout(rate = dropout_rate)"
   ]
  },
  {
   "cell_type": "code",
   "execution_count": 123,
   "metadata": {},
   "outputs": [],
   "source": [
    "dense_layer = dropout_layer(global_pooling_layer(output_from_basemodel), training =True)\n",
    "# dense_layer = global_pooling_layer(base_model.output)\n",
    "output_layer = tf.keras.layers.Dense(units=2, activation = 'softmax', name = output_label)(dense_layer)"
   ]
  },
  {
   "cell_type": "code",
   "execution_count": 124,
   "metadata": {},
   "outputs": [],
   "source": [
    "tf.keras.backend.clear_session()"
   ]
  },
  {
   "cell_type": "code",
   "execution_count": 125,
   "metadata": {},
   "outputs": [],
   "source": [
    "model = tf.keras.Model(inputs=input_layer, outputs = output_layer)"
   ]
  },
  {
   "cell_type": "code",
   "execution_count": 126,
   "metadata": {},
   "outputs": [
    {
     "name": "stdout",
     "output_type": "stream",
     "text": [
      "Model: \"model\"\n",
      "_________________________________________________________________\n",
      "Layer (type)                 Output Shape              Param #   \n",
      "=================================================================\n",
      "image (InputLayer)           [(None, 128, 128, 3)]     0         \n",
      "_________________________________________________________________\n",
      "mobilenetv2_1.00_224 (Model) multiple                  2257984   \n",
      "_________________________________________________________________\n",
      "global_average_pooling2d (Gl (None, 1280)              0         \n",
      "_________________________________________________________________\n",
      "gaussian_dropout (GaussianDr (None, 1280)              0         \n",
      "_________________________________________________________________\n",
      "disease_label (Dense)        (None, 2)                 2562      \n",
      "=================================================================\n",
      "Total params: 2,260,546\n",
      "Trainable params: 2,562\n",
      "Non-trainable params: 2,257,984\n",
      "_________________________________________________________________\n"
     ]
    }
   ],
   "source": [
    "model.summary()"
   ]
  },
  {
   "cell_type": "markdown",
   "metadata": {},
   "source": [
    "* Testing"
   ]
  },
  {
   "cell_type": "code",
   "execution_count": 127,
   "metadata": {},
   "outputs": [
    {
     "data": {
      "text/plain": [
       "<tf.Tensor: id=89556, shape=(16, 2), dtype=float32, numpy=\n",
       "array([[8.7247318e-01, 1.2752683e-01],\n",
       "       [8.6008338e-03, 9.9139917e-01],\n",
       "       [7.0958734e-01, 2.9041266e-01],\n",
       "       [3.7918788e-01, 6.2081212e-01],\n",
       "       [2.6079640e-02, 9.7392040e-01],\n",
       "       [1.3799927e-01, 8.6200070e-01],\n",
       "       [2.0044851e-03, 9.9799550e-01],\n",
       "       [5.5256317e-04, 9.9944741e-01],\n",
       "       [2.0589277e-03, 9.9794108e-01],\n",
       "       [6.2755954e-01, 3.7244043e-01],\n",
       "       [9.4147718e-01, 5.8522824e-02],\n",
       "       [3.0084401e-01, 6.9915599e-01],\n",
       "       [2.2783561e-02, 9.7721648e-01],\n",
       "       [2.3307005e-01, 7.6692998e-01],\n",
       "       [2.6534057e-01, 7.3465949e-01],\n",
       "       [5.1143926e-01, 4.8856080e-01]], dtype=float32)>"
      ]
     },
     "execution_count": 127,
     "metadata": {},
     "output_type": "execute_result"
    }
   ],
   "source": [
    "# The values are not constant when there is a dropout layer in between, change with each execution\n",
    "model(test_image)"
   ]
  },
  {
   "cell_type": "code",
   "execution_count": 128,
   "metadata": {},
   "outputs": [
    {
     "data": {
      "text/plain": [
       "<tf.Tensor: id=90337, shape=(16,), dtype=int64, numpy=array([0, 1, 0, 0, 1, 1, 1, 1, 1, 0, 1, 1, 1, 1, 0, 0])>"
      ]
     },
     "execution_count": 128,
     "metadata": {},
     "output_type": "execute_result"
    }
   ],
   "source": [
    "tf.argmax(model(test_image), axis = 1)"
   ]
  },
  {
   "cell_type": "code",
   "execution_count": 129,
   "metadata": {},
   "outputs": [
    {
     "data": {
      "text/plain": [
       "dict_keys(['disease_label'])"
      ]
     },
     "execution_count": 129,
     "metadata": {},
     "output_type": "execute_result"
    }
   ],
   "source": [
    "test_label.keys()"
   ]
  },
  {
   "cell_type": "code",
   "execution_count": 130,
   "metadata": {},
   "outputs": [
    {
     "data": {
      "text/plain": [
       "array([[0., 1.],\n",
       "       [1., 0.],\n",
       "       [1., 0.],\n",
       "       [1., 0.],\n",
       "       [1., 0.],\n",
       "       [1., 0.],\n",
       "       [1., 0.],\n",
       "       [1., 0.],\n",
       "       [0., 1.],\n",
       "       [0., 1.],\n",
       "       [1., 0.],\n",
       "       [1., 0.],\n",
       "       [1., 0.],\n",
       "       [0., 1.],\n",
       "       [0., 1.],\n",
       "       [0., 1.]])"
      ]
     },
     "execution_count": 130,
     "metadata": {},
     "output_type": "execute_result"
    }
   ],
   "source": [
    "list(test_label.values())[0].numpy()"
   ]
  },
  {
   "cell_type": "code",
   "execution_count": 131,
   "metadata": {},
   "outputs": [
    {
     "data": {
      "text/plain": [
       "<tf.Tensor: id=90339, shape=(16,), dtype=int64, numpy=array([1, 0, 0, 0, 0, 0, 0, 0, 1, 1, 0, 0, 0, 1, 1, 1])>"
      ]
     },
     "execution_count": 131,
     "metadata": {},
     "output_type": "execute_result"
    }
   ],
   "source": [
    "tf.argmax(list(test_label.values())[0], axis=1)"
   ]
  },
  {
   "cell_type": "markdown",
   "metadata": {},
   "source": [
    "* End Testing"
   ]
  },
  {
   "cell_type": "markdown",
   "metadata": {},
   "source": [
    "### Callbacks"
   ]
  },
  {
   "cell_type": "code",
   "execution_count": 132,
   "metadata": {},
   "outputs": [],
   "source": [
    "cb_list = []"
   ]
  },
  {
   "cell_type": "markdown",
   "metadata": {},
   "source": [
    "#### <i> Early Stopping CallBack <i/>"
   ]
  },
  {
   "cell_type": "code",
   "execution_count": 133,
   "metadata": {},
   "outputs": [],
   "source": [
    "cb_early_stopping = tf.keras.callbacks.EarlyStopping(monitor = 'val_loss', min_delta=1e-3, \n",
    "                                                    patience = 2)\n",
    "cb_list.append(cb_early_stopping)"
   ]
  },
  {
   "cell_type": "markdown",
   "metadata": {},
   "source": [
    "#### <i> Saving Model CallBack <i/>"
   ]
  },
  {
   "cell_type": "code",
   "execution_count": 134,
   "metadata": {},
   "outputs": [],
   "source": [
    "import os"
   ]
  },
  {
   "cell_type": "code",
   "execution_count": 135,
   "metadata": {},
   "outputs": [],
   "source": [
    "savedmodel_pathname = 'saved_models'\n",
    "if os.path.exists(savedmodel_pathname):\n",
    "    pass\n",
    "else:\n",
    "    os.mkdir(savedmodel_pathname)\n",
    "\n",
    "cb_model_chkpt = tf.keras.callbacks.ModelCheckpoint(filepath=savedmodel_pathname + '/' + \n",
    "                                                   'model_{epoch}-{val_loss:.3f}.h5', monitor = 'val_loss', \n",
    "                                                   verbose=1, save_best_only =True)\n",
    "cb_list.append(cb_model_chkpt)"
   ]
  },
  {
   "cell_type": "markdown",
   "metadata": {},
   "source": [
    "#### <i> Dynamic Learning Rate CallBack <i/>"
   ]
  },
  {
   "cell_type": "code",
   "execution_count": 136,
   "metadata": {},
   "outputs": [],
   "source": [
    "cb_lr = tf.keras.callbacks.ReduceLROnPlateau(monitor = 'val_loss', factor = 0.1, verbose=1, patience = 1)\n",
    "cb_list.append(cb_lr)"
   ]
  },
  {
   "cell_type": "markdown",
   "metadata": {},
   "source": [
    "#### <i> TensorBoard <i/>"
   ]
  },
  {
   "cell_type": "code",
   "execution_count": 137,
   "metadata": {},
   "outputs": [],
   "source": [
    "tensorboard_pathname = 'logs'\n",
    "if os.path.exists(tensorboard_pathname):\n",
    "    pass\n",
    "else:\n",
    "    os.mkdir(tensorboard_pathname)\n",
    "\n",
    "cb_tensorboard = tf.keras.callbacks.TensorBoard(log_dir = tensorboard_pathname, histogram_freq=1)\n",
    "cb_list.append(cb_tensorboard)"
   ]
  },
  {
   "cell_type": "code",
   "execution_count": null,
   "metadata": {},
   "outputs": [],
   "source": []
  },
  {
   "cell_type": "markdown",
   "metadata": {},
   "source": [
    "### Compiling"
   ]
  },
  {
   "cell_type": "code",
   "execution_count": 138,
   "metadata": {},
   "outputs": [],
   "source": [
    "model.compile(optimizer = tf.keras.optimizers.Adam(learning_rate = .01), \n",
    "             loss = tf.keras.losses.categorical_crossentropy, metrics = ['accuracy'])"
   ]
  },
  {
   "cell_type": "code",
   "execution_count": 139,
   "metadata": {},
   "outputs": [
    {
     "data": {
      "text/plain": [
       "2"
      ]
     },
     "execution_count": 139,
     "metadata": {},
     "output_type": "execute_result"
    }
   ],
   "source": [
    "len(model.trainable_variables)"
   ]
  },
  {
   "cell_type": "code",
   "execution_count": 140,
   "metadata": {},
   "outputs": [
    {
     "name": "stdout",
     "output_type": "stream",
     "text": [
      "171/171 [==============================] - 21s 121ms/step - loss: 1.8738 - accuracy: 0.4357\n"
     ]
    }
   ],
   "source": [
    "# Evaluating the model metrics before fitting\n",
    "initial_val_loss, initial_val_accuracy =  model.evaluate(validation_dataset)"
   ]
  },
  {
   "cell_type": "markdown",
   "metadata": {},
   "source": [
    "### Model Fitting"
   ]
  },
  {
   "cell_type": "code",
   "execution_count": 142,
   "metadata": {},
   "outputs": [
    {
     "name": "stdout",
     "output_type": "stream",
     "text": [
      "Epoch 1/10\n",
      "   1379/Unknown - 263s 191ms/step - loss: 0.9030 - accuracy: 0.8388\n",
      "Epoch 00001: val_loss improved from inf to 3.56914, saving model to saved_models/model_1-3.569.h5\n",
      "1379/1379 [==============================] - 282s 205ms/step - loss: 0.9030 - accuracy: 0.8388 - val_loss: 0.0000e+00 - val_accuracy: 0.0000e+00\n",
      "Epoch 2/10\n",
      "1378/1379 [============================>.] - ETA: 0s - loss: 1.0385 - accuracy: 0.8461\n",
      "Epoch 00002: val_loss improved from 3.56914 to 3.24088, saving model to saved_models/model_2-3.241.h5\n",
      "1379/1379 [==============================] - 282s 205ms/step - loss: 1.0385 - accuracy: 0.8461 - val_loss: 3.2409 - val_accuracy: 0.7468\n",
      "Epoch 3/10\n",
      "1378/1379 [============================>.] - ETA: 0s - loss: 1.0936 - accuracy: 0.8466\n",
      "Epoch 00003: val_loss did not improve from 3.24088\n",
      "1379/1379 [==============================] - 288s 209ms/step - loss: 1.0936 - accuracy: 0.8464 - val_loss: 7.2005 - val_accuracy: 0.6043\n",
      "Epoch 4/10\n",
      "1378/1379 [============================>.] - ETA: 0s - loss: 1.0993 - accuracy: 0.8472\n",
      "Epoch 00004: val_loss improved from 3.24088 to 3.22233, saving model to saved_models/model_4-3.222.h5\n",
      "1379/1379 [==============================] - 284s 206ms/step - loss: 1.0993 - accuracy: 0.8471 - val_loss: 3.2223 - val_accuracy: 0.7318\n",
      "Epoch 5/10\n",
      "1378/1379 [============================>.] - ETA: 0s - loss: 1.0821 - accuracy: 0.8474\n",
      "Epoch 00005: val_loss improved from 3.22233 to 3.14769, saving model to saved_models/model_5-3.148.h5\n",
      "1379/1379 [==============================] - 291s 211ms/step - loss: 1.0821 - accuracy: 0.8473 - val_loss: 3.1477 - val_accuracy: 0.7743\n",
      "Epoch 6/10\n",
      "1378/1379 [============================>.] - ETA: 0s - loss: 1.0745 - accuracy: 0.8475\n",
      "Epoch 00006: val_loss did not improve from 3.14769\n",
      "1379/1379 [==============================] - 295s 214ms/step - loss: 1.0745 - accuracy: 0.8474 - val_loss: 5.4387 - val_accuracy: 0.6713\n",
      "Epoch 7/10\n",
      "1378/1379 [============================>.] - ETA: 0s - loss: 1.1535 - accuracy: 0.8482\n",
      "Epoch 00007: val_loss did not improve from 3.14769\n",
      "\n",
      "Epoch 00007: ReduceLROnPlateau reducing learning rate to 0.0009999999776482583.\n",
      "1379/1379 [==============================] - 304s 220ms/step - loss: 1.1535 - accuracy: 0.8481 - val_loss: 3.4189 - val_accuracy: 0.7281\n"
     ]
    }
   ],
   "source": [
    "initial_epochs = 10\n",
    "history = model.fit(train_dataset, epochs=initial_epochs, \n",
    "                    verbose = 1, callbacks=cb_list, validation_data=validation_dataset)"
   ]
  },
  {
   "cell_type": "markdown",
   "metadata": {},
   "source": [
    "#### Test Accuracy"
   ]
  },
  {
   "cell_type": "code",
   "execution_count": 150,
   "metadata": {},
   "outputs": [
    {
     "name": "stdout",
     "output_type": "stream",
     "text": [
      "173/173 [==============================] - 19s 111ms/step - loss: 3.3194 - accuracy: 0.7329\n"
     ]
    },
    {
     "data": {
      "text/plain": [
       "[3.3193562691546763, 0.7329463]"
      ]
     },
     "execution_count": 150,
     "metadata": {},
     "output_type": "execute_result"
    }
   ],
   "source": [
    "model.evaluate(test_dataset)"
   ]
  },
  {
   "cell_type": "markdown",
   "metadata": {},
   "source": [
    "     * Overfitting"
   ]
  },
  {
   "cell_type": "markdown",
   "metadata": {},
   "source": [
    "#### Changing hyperparameters"
   ]
  },
  {
   "cell_type": "code",
   "execution_count": 153,
   "metadata": {},
   "outputs": [
    {
     "data": {
      "text/plain": [
       "{'batch_size': None,\n",
       " 'epochs': 10,\n",
       " 'steps': 1379,\n",
       " 'samples': None,\n",
       " 'verbose': 0,\n",
       " 'do_validation': True,\n",
       " 'metrics': ['loss', 'accuracy', 'val_loss', 'val_accuracy']}"
      ]
     },
     "execution_count": 153,
     "metadata": {},
     "output_type": "execute_result"
    }
   ],
   "source": [
    "cb_lr.params"
   ]
  },
  {
   "cell_type": "code",
   "execution_count": 154,
   "metadata": {},
   "outputs": [
    {
     "data": {
      "text/plain": [
       "2"
      ]
     },
     "execution_count": 154,
     "metadata": {},
     "output_type": "execute_result"
    }
   ],
   "source": [
    "cb_lr.patience"
   ]
  },
  {
   "cell_type": "code",
   "execution_count": 155,
   "metadata": {},
   "outputs": [],
   "source": [
    "cb_lr.patience = 1"
   ]
  },
  {
   "cell_type": "code",
   "execution_count": 156,
   "metadata": {},
   "outputs": [
    {
     "data": {
      "text/plain": [
       "1"
      ]
     },
     "execution_count": 156,
     "metadata": {},
     "output_type": "execute_result"
    }
   ],
   "source": [
    "cb_lr.patience"
   ]
  },
  {
   "cell_type": "code",
   "execution_count": 157,
   "metadata": {},
   "outputs": [],
   "source": [
    "# rebatching\n",
    "batch_size = 32\n",
    "train_dataset = train_dataset.unbatch().batch(batch_size=batch_size).prefetch(tf.data.experimental.AUTOTUNE)\n",
    "validation_dataset = validation_dataset.unbatch().batch(batch_size=batch_size).prefetch(tf.data.experimental.AUTOTUNE)\n",
    "test_dataset = test_dataset.unbatch().batch(batch_size=batch_size).prefetch(tf.data.experimental.AUTOTUNE)"
   ]
  },
  {
   "cell_type": "code",
   "execution_count": 163,
   "metadata": {},
   "outputs": [
    {
     "name": "stdout",
     "output_type": "stream",
     "text": [
      "(32, 128, 128, 3)\n"
     ]
    }
   ],
   "source": [
    "for i in train_dataset.take(1):\n",
    "    print(i[0]['image'].shape)\n",
    "    break"
   ]
  },
  {
   "cell_type": "markdown",
   "metadata": {},
   "source": [
    "#### Loading saved best model"
   ]
  },
  {
   "cell_type": "code",
   "execution_count": 198,
   "metadata": {},
   "outputs": [],
   "source": [
    "del model"
   ]
  },
  {
   "cell_type": "code",
   "execution_count": 199,
   "metadata": {},
   "outputs": [],
   "source": [
    "tf.keras.backend.clear_session()"
   ]
  },
  {
   "cell_type": "code",
   "execution_count": 200,
   "metadata": {},
   "outputs": [],
   "source": [
    "model = tf.keras.models.load_model(os.path.join(savedmodel_pathname, 'model_5-3.148.h5'),compile=False)"
   ]
  },
  {
   "cell_type": "code",
   "execution_count": 201,
   "metadata": {},
   "outputs": [
    {
     "name": "stdout",
     "output_type": "stream",
     "text": [
      "Model: \"model\"\n",
      "_________________________________________________________________\n",
      "Layer (type)                 Output Shape              Param #   \n",
      "=================================================================\n",
      "image (InputLayer)           [(None, 128, 128, 3)]     0         \n",
      "_________________________________________________________________\n",
      "mobilenetv2_1.00_224 (Model) multiple                  2257984   \n",
      "_________________________________________________________________\n",
      "global_average_pooling2d (Gl (None, 1280)              0         \n",
      "_________________________________________________________________\n",
      "gaussian_dropout (GaussianDr (None, 1280)              0         \n",
      "_________________________________________________________________\n",
      "disease_label (Dense)        (None, 2)                 2562      \n",
      "=================================================================\n",
      "Total params: 2,260,546\n",
      "Trainable params: 2,562\n",
      "Non-trainable params: 2,257,984\n",
      "_________________________________________________________________\n"
     ]
    }
   ],
   "source": [
    "model.summary()"
   ]
  },
  {
   "cell_type": "markdown",
   "metadata": {},
   "source": [
    "#### Compiling"
   ]
  },
  {
   "cell_type": "code",
   "execution_count": 202,
   "metadata": {},
   "outputs": [],
   "source": [
    "model.compile(optimizer =  tf.keras.optimizers.Adam(learning_rate = 0.001), \n",
    "              loss = tf.keras.losses.categorical_crossentropy, metrics = ['accuracy'])"
   ]
  },
  {
   "cell_type": "code",
   "execution_count": 203,
   "metadata": {},
   "outputs": [
    {
     "data": {
      "text/plain": [
       "[0, 1, 2, 3, 4, 5, 6]"
      ]
     },
     "execution_count": 203,
     "metadata": {},
     "output_type": "execute_result"
    }
   ],
   "source": [
    "history.epoch"
   ]
  },
  {
   "cell_type": "code",
   "execution_count": 204,
   "metadata": {},
   "outputs": [
    {
     "name": "stdout",
     "output_type": "stream",
     "text": [
      "Epoch 7/15\n",
      "    690/Unknown - 267s 387ms/step - loss: 0.6798 - accuracy: 0.8782\n",
      "Epoch 00007: val_loss improved from 3.14769 to 1.46825, saving model to saved_models/model_7-1.468.h5\n",
      "690/690 [==============================] - 287s 416ms/step - loss: 0.6798 - accuracy: 0.8782 - val_loss: 0.0000e+00 - val_accuracy: 0.0000e+00\n",
      "Epoch 8/15\n",
      "85/86 [============================>.] - ETA: 0s - loss: 0.6330 - accuracy: 0.8776\n",
      "Epoch 00008: val_loss improved from 1.46825 to 1.08592, saving model to saved_models/model_8-1.086.h5\n",
      "690/690 [==============================] - 279s 404ms/step - loss: 0.5582 - accuracy: 0.8859 - val_loss: 1.0859 - val_accuracy: 0.8435\n",
      "Epoch 9/15\n",
      "85/86 [============================>.] - ETA: 0s - loss: 0.5518 - accuracy: 0.8790\n",
      "Epoch 00009: val_loss improved from 1.08592 to 0.97383, saving model to saved_models/model_9-0.974.h5\n",
      "690/690 [==============================] - 277s 401ms/step - loss: 0.4698 - accuracy: 0.8850 - val_loss: 0.9738 - val_accuracy: 0.8417\n",
      "Epoch 10/15\n",
      "85/86 [============================>.] - ETA: 0s - loss: 0.4926 - accuracy: 0.8721\n",
      "Epoch 00010: val_loss improved from 0.97383 to 0.87290, saving model to saved_models/model_10-0.873.h5\n",
      "690/690 [==============================] - 279s 404ms/step - loss: 0.4158 - accuracy: 0.8874 - val_loss: 0.8729 - val_accuracy: 0.8292\n",
      "Epoch 11/15\n",
      "85/86 [============================>.] - ETA: 0s - loss: 0.3919 - accuracy: 0.8838\n",
      "Epoch 00011: val_loss improved from 0.87290 to 0.65003, saving model to saved_models/model_11-0.650.h5\n",
      "690/690 [==============================] - 276s 401ms/step - loss: 0.3434 - accuracy: 0.8912 - val_loss: 0.6500 - val_accuracy: 0.8421\n",
      "Epoch 12/15\n",
      "85/86 [============================>.] - ETA: 0s - loss: 0.3342 - accuracy: 0.8901\n",
      "Epoch 00012: val_loss improved from 0.65003 to 0.64387, saving model to saved_models/model_12-0.644.h5\n",
      "690/690 [==============================] - 276s 401ms/step - loss: 0.3143 - accuracy: 0.8942 - val_loss: 0.6439 - val_accuracy: 0.8373\n",
      "Epoch 13/15\n",
      "85/86 [============================>.] - ETA: 0s - loss: 0.3059 - accuracy: 0.8857\n",
      "Epoch 00013: val_loss improved from 0.64387 to 0.48812, saving model to saved_models/model_13-0.488.h5\n",
      "690/690 [==============================] - 273s 396ms/step - loss: 0.2860 - accuracy: 0.8962 - val_loss: 0.4881 - val_accuracy: 0.8490\n",
      "Epoch 14/15\n",
      "85/86 [============================>.] - ETA: 0s - loss: 0.2768 - accuracy: 0.8982\n",
      "Epoch 00014: val_loss improved from 0.48812 to 0.48281, saving model to saved_models/model_14-0.483.h5\n",
      "690/690 [==============================] - 270s 391ms/step - loss: 0.2725 - accuracy: 0.9002 - val_loss: 0.4828 - val_accuracy: 0.8556\n",
      "Epoch 15/15\n",
      "85/86 [============================>.] - ETA: 0s - loss: 0.2909 - accuracy: 0.8904\n",
      "Epoch 00015: val_loss improved from 0.48281 to 0.38677, saving model to saved_models/model_15-0.387.h5\n",
      "690/690 [==============================] - 278s 403ms/step - loss: 0.2702 - accuracy: 0.8983 - val_loss: 0.3868 - val_accuracy: 0.8578\n"
     ]
    }
   ],
   "source": [
    "epochs_2 = 15\n",
    "history_2 = model.fit(train_dataset, epochs=epochs_2, verbose = 1, callbacks=cb_list, \n",
    "                      validation_data=validation_dataset, initial_epoch=history.epoch[-1])"
   ]
  },
  {
   "cell_type": "markdown",
   "metadata": {},
   "source": [
    "#### Test Accuracy"
   ]
  },
  {
   "cell_type": "code",
   "execution_count": 207,
   "metadata": {},
   "outputs": [
    {
     "name": "stdout",
     "output_type": "stream",
     "text": [
      "87/87 [==============================] - 19s 219ms/step - loss: 0.4268 - accuracy: 0.8596\n"
     ]
    },
    {
     "data": {
      "text/plain": [
       "[0.42683802879062194, 0.8595791]"
      ]
     },
     "execution_count": 207,
     "metadata": {},
     "output_type": "execute_result"
    }
   ],
   "source": [
    "model.evaluate(test_dataset)"
   ]
  },
  {
   "cell_type": "markdown",
   "metadata": {},
   "source": [
    "#### Plotting"
   ]
  },
  {
   "cell_type": "code",
   "execution_count": 209,
   "metadata": {},
   "outputs": [
    {
     "data": {
      "text/plain": [
       "[0, 1, 2, 3, 4, 5, 6]"
      ]
     },
     "execution_count": 209,
     "metadata": {},
     "output_type": "execute_result"
    }
   ],
   "source": [
    "history.epoch"
   ]
  },
  {
   "cell_type": "code",
   "execution_count": 210,
   "metadata": {},
   "outputs": [
    {
     "data": {
      "text/plain": [
       "{'loss': [0.9029751952446379,\n",
       "  1.0388308463997293,\n",
       "  1.0948972908119308,\n",
       "  1.100454830629913,\n",
       "  1.0833327521883853,\n",
       "  1.0763498083684229,\n",
       "  1.1557441983024936],\n",
       " 'accuracy': [0.8388325,\n",
       "  0.8460841,\n",
       "  0.8464467,\n",
       "  0.84712654,\n",
       "  0.8472625,\n",
       "  0.84735316,\n",
       "  0.84812367],\n",
       " 'val_loss': [3.5691353263420793,\n",
       "  3.2408808086091945,\n",
       "  7.200453162193298,\n",
       "  3.2223285684179603,\n",
       "  3.147685241090906,\n",
       "  5.438651796299637,\n",
       "  3.418948390025493],\n",
       " 'val_accuracy': [0.7233419,\n",
       "  0.7467937,\n",
       "  0.60425067,\n",
       "  0.73176986,\n",
       "  0.7742763,\n",
       "  0.67130816,\n",
       "  0.72810555],\n",
       " 'lr': [0.01, 0.01, 0.01, 0.01, 0.01, 0.01, 0.01]}"
      ]
     },
     "execution_count": 210,
     "metadata": {},
     "output_type": "execute_result"
    }
   ],
   "source": [
    "history.history"
   ]
  },
  {
   "cell_type": "code",
   "execution_count": 211,
   "metadata": {},
   "outputs": [
    {
     "data": {
      "text/plain": [
       "[0.7233419,\n",
       " 0.7467937,\n",
       " 0.60425067,\n",
       " 0.73176986,\n",
       " 0.7742763,\n",
       " 0.67130816,\n",
       " 0.72810555]"
      ]
     },
     "execution_count": 211,
     "metadata": {},
     "output_type": "execute_result"
    }
   ],
   "source": [
    "history.history['val_accuracy']"
   ]
  },
  {
   "cell_type": "markdown",
   "metadata": {},
   "source": [
    "history_2 commenced from model-5 of history"
   ]
  },
  {
   "cell_type": "code",
   "execution_count": 205,
   "metadata": {},
   "outputs": [
    {
     "data": {
      "text/plain": [
       "[6, 7, 8, 9, 10, 11, 12, 13, 14]"
      ]
     },
     "execution_count": 205,
     "metadata": {},
     "output_type": "execute_result"
    }
   ],
   "source": [
    "history_2.epoch"
   ]
  },
  {
   "cell_type": "code",
   "execution_count": 212,
   "metadata": {},
   "outputs": [
    {
     "data": {
      "text/plain": [
       "[0.8438989,\n",
       " 0.84353244,\n",
       " 0.84170026,\n",
       " 0.82924145,\n",
       " 0.8420667,\n",
       " 0.83730304,\n",
       " 0.84902894,\n",
       " 0.8556248,\n",
       " 0.8578234]"
      ]
     },
     "execution_count": 212,
     "metadata": {},
     "output_type": "execute_result"
    }
   ],
   "source": [
    "history_2.history['val_accuracy']"
   ]
  },
  {
   "cell_type": "code",
   "execution_count": 214,
   "metadata": {},
   "outputs": [],
   "source": [
    "import matplotlib.pyplot as plt\n",
    "%matplotlib inline"
   ]
  },
  {
   "cell_type": "code",
   "execution_count": 228,
   "metadata": {},
   "outputs": [
    {
     "data": {
      "text/plain": [
       "[0, 1, 2, 3, 4, 6, 7, 8, 9, 10, 11, 12, 13, 14]"
      ]
     },
     "execution_count": 228,
     "metadata": {},
     "output_type": "execute_result"
    }
   ],
   "source": [
    "epoch_list = history.epoch[:-2] + history_2.epoch\n",
    "epoch_list"
   ]
  },
  {
   "cell_type": "code",
   "execution_count": 231,
   "metadata": {},
   "outputs": [],
   "source": [
    "val_acc_list =  history.history['val_accuracy'][:-2] + history_2.history['val_accuracy']"
   ]
  },
  {
   "cell_type": "code",
   "execution_count": 230,
   "metadata": {},
   "outputs": [],
   "source": [
    "train_acc_list =  history.history['accuracy'][:-2] + history_2.history['accuracy']"
   ]
  },
  {
   "cell_type": "code",
   "execution_count": 232,
   "metadata": {},
   "outputs": [],
   "source": [
    "val_loss_list =  history.history['val_loss'][:-2] + history_2.history['val_loss']"
   ]
  },
  {
   "cell_type": "code",
   "execution_count": 235,
   "metadata": {},
   "outputs": [],
   "source": [
    "train_loss_list =  history.history['loss'][:-2] + history_2.history['loss']"
   ]
  },
  {
   "cell_type": "code",
   "execution_count": 239,
   "metadata": {},
   "outputs": [
    {
     "data": {
      "image/png": "[encoded data removed]",
      "text/plain": [
       "<Figure size 1152x432 with 2 Axes>"
      ]
     },
     "metadata": {
      "needs_background": "light"
     },
     "output_type": "display_data"
    }
   ],
   "source": [
    "fig1, ax1 =  plt.subplots(nrows = 1, ncols =2, figsize=(16,6))\n",
    "\n",
    "# plotting accuracies\n",
    "ax1[0].plot(epoch_list, train_acc_list, 'r-', label = 'Training Accuracy')\n",
    "ax1[0].plot(epoch_list, val_acc_list, 'b-', label = 'Validation Accuracy')\n",
    "\n",
    "# plotting losses\n",
    "ax1[1].plot(epoch_list, train_loss_list, 'r-', label = 'Training Loss')\n",
    "ax1[1].plot(epoch_list, val_loss_list, 'b-', label = 'Validation Loss')\n",
    "\n",
    "[i.set_xlabel('Epoch') for i in ax1]\n",
    "\n",
    "ax1[0].set_ylabel('Accuracy')\n",
    "ax1[1].set_ylabel('Loss')\n",
    "\n",
    "[i.set_ylim([0,1]) for i in ax1]\n",
    "\n",
    "[i.legend(loc = 'best') for i in ax1]\n",
    "\n",
    "plt.show()"
   ]
  },
  {
   "cell_type": "code",
   "execution_count": null,
   "metadata": {},
   "outputs": [],
   "source": []
  },
  {
   "cell_type": "code",
   "execution_count": null,
   "metadata": {},
   "outputs": [],
   "source": []
  },
  {
   "cell_type": "code",
   "execution_count": null,
   "metadata": {},
   "outputs": [],
   "source": []
  },
  {
   "cell_type": "markdown",
   "metadata": {},
   "source": [
    "### Fine Tuning"
   ]
  },
  {
   "cell_type": "code",
   "execution_count": null,
   "metadata": {},
   "outputs": [],
   "source": [
    "base_model.trainable = True"
   ]
  },
  {
   "cell_type": "code",
   "execution_count": null,
   "metadata": {},
   "outputs": [],
   "source": [
    "tf.keras"
   ]
  }
 ],
 "metadata": {
  "accelerator": "GPU",
  "colab": {
   "name": "Malaria_ds_TF_v1.ipynb",
   "provenance": []
  },
  "kernelspec": {
   "display_name": "Python (datascience)",
   "language": "python",
   "name": "datascience"
  },
  "language_info": {
   "codemirror_mode": {
    "name": "ipython",
    "version": 3
   },
   "file_extension": ".py",
   "mimetype": "text/x-python",
   "name": "python",
   "nbconvert_exporter": "python",
   "pygments_lexer": "ipython3",
   "version": "3.6.7"
  }
 },
 "nbformat": 4,
 "nbformat_minor": 4
}
